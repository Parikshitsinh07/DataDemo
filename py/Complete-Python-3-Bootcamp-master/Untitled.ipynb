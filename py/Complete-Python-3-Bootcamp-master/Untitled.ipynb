{
 "cells": [
  {
   "cell_type": "code",
   "execution_count": null,
   "id": "6e9a6161-86c5-4cee-9092-ee67ecf2f2a9",
   "metadata": {},
   "outputs": [],
   "source": [
    "import sys\n",
    "list=[2,\"a\",0]\n",
    "for j in list:\n",
    "    try:\n",
    "        print('try block value of j = {}'.format(j))\n",
    "        k = 1/j\n",
    "        print('End of try block value Of k = {}'.format(k))\n",
    "    except:\n",
    "        print(\"Except block value Of e = {}\".format(j))\n",
    "        print(\"Ex"
   ]
  }
 ],
 "metadata": {
  "kernelspec": {
   "display_name": "Python 3 (ipykernel)",
   "language": "python",
   "name": "python3"
  },
  "language_info": {
   "codemirror_mode": {
    "name": "ipython",
    "version": 3
   },
   "file_extension": ".py",
   "mimetype": "text/x-python",
   "name": "python",
   "nbconvert_exporter": "python",
   "pygments_lexer": "ipython3",
   "version": "3.9.6"
  }
 },
 "nbformat": 4,
 "nbformat_minor": 5
}
