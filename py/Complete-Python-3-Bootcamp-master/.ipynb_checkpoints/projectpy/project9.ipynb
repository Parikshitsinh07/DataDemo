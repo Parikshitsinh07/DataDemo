{
 "cells": [
  {
   "cell_type": "markdown",
   "metadata": {},
   "source": [
    "##### 9. Write a program using user-define function to find out mediun"
   ]
  },
  {
   "cell_type": "code",
   "execution_count": 2,
   "metadata": {},
   "outputs": [
    {
     "name": "stdout",
     "output_type": "stream",
     "text": [
      "Elements of list: [34, 23, 45, 34, 65]\n",
      "Median of given numbers : 34\n"
     ]
    }
   ],
   "source": [
    "def median(obsr):\n",
    "    if len(obsr) == 0:\n",
    "        median = 0\n",
    "    sort_obsr = sorted(obsr) \n",
    "    n = len(sort_obsr)\n",
    "    if n % 2 == 0:\n",
    "        med = int(n/2)\n",
    "        median = sort_obsr[med-1]\n",
    "    else:\n",
    "        med = int((n+1)/2)\n",
    "        median = sort_obsr[med-1]\n",
    "    return median\n",
    "\n",
    "obsr = []\n",
    "ele = int(input(\"Enter the size of list: \"))\n",
    "for i in range(ele):\n",
    "    data = int(input(\"Enter observation : \"))\n",
    "    obsr.append(data)\n",
    "print(\"Elements of list:\", obsr)\n",
    "\n",
    "print(\"Median of given numbers :\", median(obsr))"
   ]
  }
 ],
 "metadata": {
  "kernelspec": {
   "display_name": "Python 3 (ipykernel)",
   "language": "python",
   "name": "python3"
  },
  "language_info": {
   "codemirror_mode": {
    "name": "ipython",
    "version": 3
   },
   "file_extension": ".py",
   "mimetype": "text/x-python",
   "name": "python",
   "nbconvert_exporter": "python",
   "pygments_lexer": "ipython3",
   "version": "3.9.6"
  }
 },
 "nbformat": 4,
 "nbformat_minor": 4
}
