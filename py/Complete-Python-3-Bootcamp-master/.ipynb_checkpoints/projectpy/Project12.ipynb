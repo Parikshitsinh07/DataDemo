{
 "cells": [
  {
   "cell_type": "markdown",
   "id": "d81ab40a-a82a-4ada-b467-3bf70c7b9b83",
   "metadata": {},
   "source": [
    "##### 12.Write a Program To find out factorial using Recursive"
   ]
  },
  {
   "cell_type": "code",
   "execution_count": 8,
   "id": "5890c898-8384-46c2-8de8-eb78bd9538c6",
   "metadata": {},
   "outputs": [
    {
     "name": "stdin",
     "output_type": "stream",
     "text": [
      "Enter Your Number To find factorial 5\n"
     ]
    },
    {
     "name": "stdout",
     "output_type": "stream",
     "text": [
      "Factorial is : 120\n"
     ]
    }
   ],
   "source": [
    "def factorial(x):\n",
    "    \"\"\"This is a recursive function\n",
    "    to find the factorial of an integer\"\"\"\n",
    "\n",
    "    if x == 1:\n",
    "        return 1\n",
    "    else:\n",
    "        return (x * factorial(x-1))\n",
    "\n",
    "Number=int(input(\"Enter Your Number To find factorial\"))\n",
    "print(\"Factorial is :\",factorial(Number))"
   ]
  }
 ],
 "metadata": {
  "kernelspec": {
   "display_name": "Python 3 (ipykernel)",
   "language": "python",
   "name": "python3"
  },
  "language_info": {
   "codemirror_mode": {
    "name": "ipython",
    "version": 3
   },
   "file_extension": ".py",
   "mimetype": "text/x-python",
   "name": "python",
   "nbconvert_exporter": "python",
   "pygments_lexer": "ipython3",
   "version": "3.9.6"
  }
 },
 "nbformat": 4,
 "nbformat_minor": 5
}
