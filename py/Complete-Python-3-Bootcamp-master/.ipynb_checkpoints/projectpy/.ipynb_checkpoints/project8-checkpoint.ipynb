{
 "cells": [
  {
   "cell_type": "markdown",
   "metadata": {},
   "source": [
    "##### 8. Write a program using user-define function to find out mean"
   ]
  },
  {
   "cell_type": "code",
   "execution_count": 1,
   "metadata": {},
   "outputs": [
    {
     "name": "stdout",
     "output_type": "stream",
     "text": [
      "Elements of list: [23, 45, 34, 76]\n",
      "Mean of given numbers : 44.5\n"
     ]
    }
   ],
   "source": [
    "def mean(obsr):\n",
    "    if len(obsr) == 0:\n",
    "        mean = 0\n",
    "    else:\n",
    "        sum = 0\n",
    "        for i in obsr :\n",
    "            sum += int(i)\n",
    "        mean = sum / len(obsr)\n",
    "    return mean\n",
    "\n",
    "obsr = []\n",
    "ele = int(input(\"Enter the size of list: \"))\n",
    "for i in range(ele):\n",
    "    data = int(input(\"Enter observation: \"))\n",
    "    obsr.append(data)\n",
    "print(\"Elements of list:\", obsr)\n",
    "\n",
    "print(\"Mean of given numbers :\", mean(obsr))"
   ]
  }
 ],
 "metadata": {
  "kernelspec": {
   "display_name": "Python 3",
   "language": "python",
   "name": "python3"
  },
  "language_info": {
   "codemirror_mode": {
    "name": "ipython",
    "version": 3
   },
   "file_extension": ".py",
   "mimetype": "text/x-python",
   "name": "python",
   "nbconvert_exporter": "python",
   "pygments_lexer": "ipython3",
   "version": "3.11.4"
  },
  "orig_nbformat": 4
 },
 "nbformat": 4,
 "nbformat_minor": 2
}
