{
 "cells": [
  {
   "cell_type": "markdown",
   "metadata": {},
   "source": [
    "##### 1. Write a program to find maximum and minimum number from the given number (using two and three number)"
   ]
  },
  {
   "cell_type": "code",
   "execution_count": 1,
   "metadata": {},
   "outputs": [
    {
     "name": "stdout",
     "output_type": "stream",
     "text": [
      "Maximum number is y : 15\n"
     ]
    }
   ],
   "source": [
    "x = 12\n",
    "y = 15 \n",
    "if x > y :\n",
    "    print(\"Maximum number is x :\",x)\n",
    "else:\n",
    "    print(\"Maximum number is y :\",y)"
   ]
  },
  {
   "cell_type": "code",
   "execution_count": 2,
   "metadata": {},
   "outputs": [
    {
     "name": "stdout",
     "output_type": "stream",
     "text": [
      "Maximum number is y : 17\n"
     ]
    }
   ],
   "source": [
    "x = 14\n",
    "y = 17\n",
    "z = 13\n",
    "if (x > y) and (x > z):\n",
    "    print(\"Maximum number is x :\",x)\n",
    "elif (y > z) and (y > x):\n",
    "    print(\"Maximum number is y :\",y)\n",
    "else:\n",
    "    print(\"Maximum number is z :\",z)"
   ]
  }
 ],
 "metadata": {
  "kernelspec": {
   "display_name": "Python 3",
   "language": "python",
   "name": "python3"
  },
  "language_info": {
   "codemirror_mode": {
    "name": "ipython",
    "version": 3
   },
   "file_extension": ".py",
   "mimetype": "text/x-python",
   "name": "python",
   "nbconvert_exporter": "python",
   "pygments_lexer": "ipython3",
   "version": "3.11.4"
  },
  "orig_nbformat": 4
 },
 "nbformat": 4,
 "nbformat_minor": 2
}
