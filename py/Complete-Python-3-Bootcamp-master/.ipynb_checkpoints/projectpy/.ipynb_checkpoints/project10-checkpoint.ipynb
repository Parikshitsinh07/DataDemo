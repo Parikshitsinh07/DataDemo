{
 "cells": [
  {
   "cell_type": "markdown",
   "metadata": {},
   "source": [
    "##### 10. Write a program using user-define function to find out mode"
   ]
  },
  {
   "cell_type": "code",
   "execution_count": 1,
   "metadata": {},
   "outputs": [
    {
     "name": "stdout",
     "output_type": "stream",
     "text": [
      "Elements of list: [34, 56, 34, 67, 34]\n",
      "Mode of given numbers : 34\n"
     ]
    }
   ],
   "source": [
    "def mode(data):\n",
    "    if len(data) == 0:\n",
    "        mode = 0\n",
    "    else:\n",
    "        max_freq = 0 \n",
    "        for i in data:\n",
    "            freq = data.count(i)  \n",
    "            if freq > max_freq:\n",
    "                max_freq = freq \n",
    "                f = data.index(i)\n",
    "            mode = data[f]\n",
    "        return mode  \n",
    "\n",
    "data = []\n",
    "ele = int(input(\"Enter the size of list: \"))\n",
    "for i in range(ele):\n",
    "    element = int(input(\"Enter element: \"))\n",
    "    data.append(element)\n",
    "print(\"Elements of list:\", data)\n",
    "\n",
    "print(\"Mode of given numbers :\", mode(data))"
   ]
  }
 ],
 "metadata": {
  "kernelspec": {
   "display_name": "Python 3",
   "language": "python",
   "name": "python3"
  },
  "language_info": {
   "codemirror_mode": {
    "name": "ipython",
    "version": 3
   },
   "file_extension": ".py",
   "mimetype": "text/x-python",
   "name": "python",
   "nbconvert_exporter": "python",
   "pygments_lexer": "ipython3",
   "version": "3.11.4"
  },
  "orig_nbformat": 4
 },
 "nbformat": 4,
 "nbformat_minor": 2
}
