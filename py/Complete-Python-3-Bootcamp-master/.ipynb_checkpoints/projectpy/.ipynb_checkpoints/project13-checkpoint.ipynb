{
 "cells": [
  {
   "cell_type": "markdown",
   "id": "9cd2c9e3-7e7d-4b5b-886e-d5e4172ccd91",
   "metadata": {},
   "source": [
    "##### 13.Write a Program to find out Percentage using Lamdba Function"
   ]
  },
  {
   "cell_type": "code",
   "execution_count": 18,
   "id": "0c240c6a-4b49-439e-b170-b500a01dfaed",
   "metadata": {},
   "outputs": [
    {
     "name": "stdin",
     "output_type": "stream",
     "text": [
      "Enter Your vlues 23\n",
      "Enter Your vlues 100\n"
     ]
    },
    {
     "data": {
      "text/plain": [
       "23.0"
      ]
     },
     "execution_count": 18,
     "metadata": {},
     "output_type": "execute_result"
    }
   ],
   "source": [
    "percentage = lambda num1,num2 : (num2*100)/num1\n",
    "total=int(input(\"Enter Your vlues\"))\n",
    "OutTotal=int(input(\"Enter Your vlues\"))\n",
    "percentage(OutTotal,total)"
   ]
  },
  {
   "cell_type": "code",
   "execution_count": null,
   "id": "1ef1c45d-63aa-41de-b89a-b2e836eee31e",
   "metadata": {},
   "outputs": [],
   "source": [
    "\n"
   ]
  }
 ],
 "metadata": {
  "kernelspec": {
   "display_name": "Python 3 (ipykernel)",
   "language": "python",
   "name": "python3"
  },
  "language_info": {
   "codemirror_mode": {
    "name": "ipython",
    "version": 3
   },
   "file_extension": ".py",
   "mimetype": "text/x-python",
   "name": "python",
   "nbconvert_exporter": "python",
   "pygments_lexer": "ipython3",
   "version": "3.9.6"
  }
 },
 "nbformat": 4,
 "nbformat_minor": 5
}
