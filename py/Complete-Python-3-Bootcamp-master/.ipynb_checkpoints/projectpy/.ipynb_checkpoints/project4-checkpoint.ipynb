{
 "cells": [
  {
   "cell_type": "markdown",
   "metadata": {},
   "source": [
    "##### 4. Write a program to print digit in pyramid"
   ]
  },
  {
   "cell_type": "code",
   "execution_count": 1,
   "metadata": {},
   "outputs": [
    {
     "name": "stdout",
     "output_type": "stream",
     "text": [
      "       \n",
      "     1  \n",
      "    2 2  \n",
      "   3 3 3  \n",
      "  4 4 4 4  \n",
      " 5 5 5 5 5  \n"
     ]
    }
   ],
   "source": [
    "row = int(input(\"Enter number of rows to print pyramid :\"))\n",
    "for no in range(row):\n",
    "    for j in range (row):\n",
    "        print(end = \" \")\n",
    "    row = row - 1\n",
    "    for i in range(no):\n",
    "        print(no, end=\" \")\n",
    "    print (' ')"
   ]
  }
 ],
 "metadata": {
  "kernelspec": {
   "display_name": "Python 3",
   "language": "python",
   "name": "python3"
  },
  "language_info": {
   "codemirror_mode": {
    "name": "ipython",
    "version": 3
   },
   "file_extension": ".py",
   "mimetype": "text/x-python",
   "name": "python",
   "nbconvert_exporter": "python",
   "pygments_lexer": "ipython3",
   "version": "3.11.4"
  },
  "orig_nbformat": 4
 },
 "nbformat": 4,
 "nbformat_minor": 2
}
