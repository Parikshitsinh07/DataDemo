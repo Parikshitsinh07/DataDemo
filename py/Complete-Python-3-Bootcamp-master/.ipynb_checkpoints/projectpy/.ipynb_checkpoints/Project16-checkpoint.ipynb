{
 "cells": [
  {
   "cell_type": "markdown",
   "id": "63792a69-c98d-4494-95b2-627a7fade388",
   "metadata": {},
   "source": [
    "16.Write a Program to find out the addition of two matrix and multiplication of two matrix using numpy library"
   ]
  },
  {
   "cell_type": "code",
   "execution_count": 2,
   "id": "be6ce3c2-8105-4088-a15d-0c3263017e40",
   "metadata": {},
   "outputs": [],
   "source": [
    "import numpy as np"
   ]
  },
  {
   "cell_type": "code",
   "execution_count": 3,
   "id": "203804f2-a0ce-4a88-82fc-c4c3cb87b1b2",
   "metadata": {},
   "outputs": [
    {
     "name": "stdout",
     "output_type": "stream",
     "text": [
      "Matrix 1\n",
      "[[ 2  4  6]\n",
      " [ 8 10 12]\n",
      " [14 16 18]]\n",
      "Matrix 2\n",
      "[[ 1  3  5]\n",
      " [ 7  9 11]\n",
      " [13 15 17]]\n",
      "Addtion Of two number using numpy Add function\n",
      "[[ 3  7 11]\n",
      " [15 19 23]\n",
      " [27 31 35]]\n",
      "Multiplicaton Of Two Array using numpy Function\n",
      "[[108 132 156]\n",
      " [234 294 354]\n",
      " [360 456 552]]\n",
      "[[108 132 156]\n",
      " [234 294 354]\n",
      " [360 456 552]]\n"
     ]
    }
   ],
   "source": [
    "Array1 = np.array([[2,4,6],[8,10,12],[14,16,18]]);\n",
    "Array2 = np.array([[1,3,5],[7,9,11],[13,15,17]]);\n",
    "print(\"Matrix 1\")\n",
    "print(Array1)\n",
    "print(\"Matrix 2\")\n",
    "print(Array2)\n",
    "print(\"Addtion Of two number using numpy Add function\")\n",
    "print(np.add(Array1,Array2))\n",
    "print(\"Multiplicaton Of Two Array using numpy Function\")\n",
    "print(np.dot(Array1,Array2))\n",
    "print(np.matmul(Array1,Array2))\n"
   ]
  },
  {
   "cell_type": "code",
   "execution_count": null,
   "id": "8a8df818-3f7c-4df9-a6c2-41d400bdfa6b",
   "metadata": {},
   "outputs": [],
   "source": []
  },
  {
   "cell_type": "code",
   "execution_count": null,
   "id": "e3a5eaaa-4b64-4a4d-b06f-8fdb64b7c582",
   "metadata": {},
   "outputs": [],
   "source": []
  }
 ],
 "metadata": {
  "kernelspec": {
   "display_name": "Python 3 (ipykernel)",
   "language": "python",
   "name": "python3"
  },
  "language_info": {
   "codemirror_mode": {
    "name": "ipython",
    "version": 3
   },
   "file_extension": ".py",
   "mimetype": "text/x-python",
   "name": "python",
   "nbconvert_exporter": "python",
   "pygments_lexer": "ipython3",
   "version": "3.9.6"
  }
 },
 "nbformat": 4,
 "nbformat_minor": 5
}
