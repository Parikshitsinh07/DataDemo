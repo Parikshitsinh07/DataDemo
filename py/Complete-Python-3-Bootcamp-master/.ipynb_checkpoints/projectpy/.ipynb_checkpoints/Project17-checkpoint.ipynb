{
 "cells": [
  {
   "cell_type": "code",
   "execution_count": 2,
   "id": "c3f2a271-d3e6-4280-a7a0-271453740661",
   "metadata": {},
   "outputs": [],
   "source": [
    "import numpy as np"
   ]
  },
  {
   "cell_type": "markdown",
   "id": "c1445d29-56a1-40cd-adc9-583b07fcab8f",
   "metadata": {},
   "source": [
    "step 1 --> find out invers of Matrix A ( using linalg.inv() function)\n",
    "step 2 --> Multipication Of invers and c to find AnsX values\n",
    "step 3 --> if a and AnsX multipilcation euql to c then Ans is corrrect "
   ]
  },
  {
   "cell_type": "markdown",
   "id": "74b609fb-5929-45c9-92d8-e9f500cebc8e",
   "metadata": {},
   "source": [
    "1--> 2x+3y+5z=15\n",
    "\n",
    "2--> 5x+6y+7z=20\n",
    "\n",
    "3--> 9x+9y-15=25"
   ]
  },
  {
   "cell_type": "code",
   "execution_count": 3,
   "id": "6af77d19-ec1d-492a-8cb6-f17ca76e6ac2",
   "metadata": {},
   "outputs": [],
   "source": [
    "A = np.array([[2,3,5],[5,6,7],[9,9,15]])\n",
    "B = np.array([['X','Y','Z']])\n",
    "C = np.array([[15,20,25]])"
   ]
  },
  {
   "cell_type": "code",
   "execution_count": 4,
   "id": "b90a7c5d-4fc4-449e-aa16-c99cf9abb138",
   "metadata": {},
   "outputs": [
    {
     "name": "stdout",
     "output_type": "stream",
     "text": [
      "[[-1.00000000e+00 -1.23358114e-17  3.33333333e-01]\n",
      " [ 4.44444444e-01  5.55555556e-01 -4.07407407e-01]\n",
      " [ 3.33333333e-01 -3.33333333e-01  1.11111111e-01]]\n"
     ]
    }
   ],
   "source": [
    "inverA = np.linalg.inv(A)\n",
    "print(inverA)"
   ]
  },
  {
   "cell_type": "code",
   "execution_count": 5,
   "id": "b886c1e4-e47d-4f35-a0d3-a912a33afe3f",
   "metadata": {},
   "outputs": [
    {
     "name": "stdout",
     "output_type": "stream",
     "text": [
      "[[-6.66666667]\n",
      " [ 7.59259259]\n",
      " [ 1.11111111]]\n"
     ]
    }
   ],
   "source": [
    "AnsX=np.dot(inverA,C.T)\n",
    "print(AnsX)"
   ]
  },
  {
   "cell_type": "code",
   "execution_count": 6,
   "id": "250d5f23-2c63-4788-aa7c-edf92203fbd6",
   "metadata": {},
   "outputs": [
    {
     "name": "stdout",
     "output_type": "stream",
     "text": [
      "[[15.]\n",
      " [20.]\n",
      " [25.]]\n"
     ]
    }
   ],
   "source": [
    "print(np.dot(A,AnsX))"
   ]
  },
  {
   "cell_type": "markdown",
   "id": "22848be6-9be3-42cf-bad2-5c178ba66479",
   "metadata": {},
   "source": [
    "1--> 6x + 5 = 14\n",
    "\n",
    "2--> 3x - 6 = 9\n",
    "\n",
    "3--> x + 9 = 16"
   ]
  },
  {
   "cell_type": "code",
   "execution_count": 20,
   "id": "dd2e595c-9ef3-4c94-8ec4-f1884bf68020",
   "metadata": {},
   "outputs": [],
   "source": [
    "K = np.array([[1,2],[3,5]])\n",
    "J = np.array([['X','Y']])\n",
    "M = np.array([[5,14]])"
   ]
  },
  {
   "cell_type": "code",
   "execution_count": 21,
   "id": "9a069b73-7c43-4a24-92d4-d475d44fb1b2",
   "metadata": {},
   "outputs": [
    {
     "name": "stdout",
     "output_type": "stream",
     "text": [
      "[[-5.  2.]\n",
      " [ 3. -1.]]\n"
     ]
    }
   ],
   "source": [
    "inverA = np.linalg.inv(K)\n",
    "print(inverA)"
   ]
  },
  {
   "cell_type": "code",
   "execution_count": 23,
   "id": "897eb46d-b030-4905-b31b-680fd45987ab",
   "metadata": {},
   "outputs": [
    {
     "name": "stdout",
     "output_type": "stream",
     "text": [
      "[[3.]\n",
      " [1.]]\n"
     ]
    }
   ],
   "source": [
    "AnsX=np.dot(inverA,M.T)\n",
    "print(AnsX)"
   ]
  },
  {
   "cell_type": "code",
   "execution_count": 24,
   "id": "bb3afd3b-83a2-406a-9ee6-ff10974d926e",
   "metadata": {},
   "outputs": [
    {
     "name": "stdout",
     "output_type": "stream",
     "text": [
      "[[ 5.]\n",
      " [14.]]\n"
     ]
    }
   ],
   "source": [
    "print(np.dot(K,AnsX))"
   ]
  },
  {
   "cell_type": "markdown",
   "id": "708fd7dc-a362-428d-96b9-2dd7ea32be41",
   "metadata": {},
   "source": [
    "1--> x – 2y = 5\n",
    "\n",
    "2--> 4x – 3y – z = 3\n",
    "\n",
    "3--> 5y – 7z = 9"
   ]
  },
  {
   "cell_type": "code",
   "execution_count": 25,
   "id": "1e058002-b3d2-4a87-8564-8e91010b4607",
   "metadata": {},
   "outputs": [],
   "source": [
    "A = np.array([[1,2,0],[4,3,1],[0,5,7]])\n",
    "B = np.array([['X','Y','Z']])\n",
    "C = np.array([[5,3,9]])"
   ]
  },
  {
   "cell_type": "code",
   "execution_count": 27,
   "id": "cec9eb79-32c9-4041-b153-c18913fb57ed",
   "metadata": {},
   "outputs": [
    {
     "name": "stdout",
     "output_type": "stream",
     "text": [
      "[[-0.4    0.35  -0.05 ]\n",
      " [ 0.7   -0.175  0.025]\n",
      " [-0.5    0.125  0.125]]\n"
     ]
    }
   ],
   "source": [
    "inverA = np.linalg.inv(A)\n",
    "print(inverA)"
   ]
  },
  {
   "cell_type": "code",
   "execution_count": 29,
   "id": "0df96f6e-2561-4b95-8080-a0786c09afd4",
   "metadata": {},
   "outputs": [
    {
     "name": "stdout",
     "output_type": "stream",
     "text": [
      "[[-1.4]\n",
      " [ 3.2]\n",
      " [-1. ]]\n"
     ]
    }
   ],
   "source": [
    "AnsX=np.dot(inverA,C.T)\n",
    "print(AnsX)"
   ]
  },
  {
   "cell_type": "code",
   "execution_count": 30,
   "id": "818e2e1a-0a16-484d-9371-008bf4903d7c",
   "metadata": {},
   "outputs": [
    {
     "name": "stdout",
     "output_type": "stream",
     "text": [
      "[[5.]\n",
      " [3.]\n",
      " [9.]]\n"
     ]
    }
   ],
   "source": [
    "print(np.dot(A,AnsX))"
   ]
  },
  {
   "cell_type": "code",
   "execution_count": 10,
   "id": "ca6bf114-9e05-4c4a-9929-c70966aad9d9",
   "metadata": {},
   "outputs": [],
   "source": [
    "A = np.array([[2,3,5],[5,6,7],[9,9,15]])\n",
    "B = np.array([['X'],['Y'],['Z']])\n",
    "C = np.array([[15],[20],[25]])"
   ]
  },
  {
   "cell_type": "code",
   "execution_count": 11,
   "id": "7da57f1c-8805-4675-9129-7b75287b16df",
   "metadata": {},
   "outputs": [
    {
     "name": "stdout",
     "output_type": "stream",
     "text": [
      "[[-1.00000000e+00 -1.23358114e-17  3.33333333e-01]\n",
      " [ 4.44444444e-01  5.55555556e-01 -4.07407407e-01]\n",
      " [ 3.33333333e-01 -3.33333333e-01  1.11111111e-01]]\n"
     ]
    }
   ],
   "source": [
    "A_inv = np.linalg.inv(A)\n",
    "print(A_inv)"
   ]
  },
  {
   "cell_type": "code",
   "execution_count": 12,
   "id": "004374e0-6997-4f02-97e0-001d89c89195",
   "metadata": {},
   "outputs": [
    {
     "name": "stdout",
     "output_type": "stream",
     "text": [
      "[[-6.66666667]\n",
      " [ 7.59259259]\n",
      " [ 1.11111111]]\n"
     ]
    }
   ],
   "source": [
    "b = np.dot(A_inv, C)\n",
    "print(b)"
   ]
  },
  {
   "cell_type": "code",
   "execution_count": 16,
   "id": "ebfa161c-c5cc-40a3-a5c1-58877f6fd00f",
   "metadata": {},
   "outputs": [
    {
     "name": "stdout",
     "output_type": "stream",
     "text": [
      "[[15.]\n",
      " [20.]\n",
      " [25.]]\n"
     ]
    }
   ],
   "source": [
    "c = np.dot(A, b)\n",
    "print(c)"
   ]
  }
 ],
 "metadata": {
  "kernelspec": {
   "display_name": "Python 3 (ipykernel)",
   "language": "python",
   "name": "python3"
  },
  "language_info": {
   "codemirror_mode": {
    "name": "ipython",
    "version": 3
   },
   "file_extension": ".py",
   "mimetype": "text/x-python",
   "name": "python",
   "nbconvert_exporter": "python",
   "pygments_lexer": "ipython3",
   "version": "3.9.6"
  }
 },
 "nbformat": 4,
 "nbformat_minor": 5
}
