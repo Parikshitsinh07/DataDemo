{
 "cells": [
  {
   "cell_type": "markdown",
   "metadata": {},
   "source": [
    "##### 7. Write a program using user-define function to print string except special characters in given string"
   ]
  },
  {
   "cell_type": "code",
   "execution_count": 1,
   "metadata": {},
   "outputs": [
    {
     "name": "stdout",
     "output_type": "stream",
     "text": [
      "String after remove articals :  parikshit200vadhela\n"
     ]
    }
   ],
   "source": [
    "def remart(string):\n",
    "    a = ['~', '`', '!', '@', '#', '$', '%', '^', '&', '*', '£','.']\n",
    "    r = ' '\n",
    "    for i in range (len(string)):\n",
    "        if string[i] not in a:\n",
    "            r = r + string[i]\n",
    "    return (r)\n",
    "\n",
    "string = input(\"Enter String to remove articles : \")\n",
    "print(\"String after remove articals :\",remart(string))"
   ]
  }
 ],
 "metadata": {
  "kernelspec": {
   "display_name": "Python 3",
   "language": "python",
   "name": "python3"
  },
  "language_info": {
   "codemirror_mode": {
    "name": "ipython",
    "version": 3
   },
   "file_extension": ".py",
   "mimetype": "text/x-python",
   "name": "python",
   "nbconvert_exporter": "python",
   "pygments_lexer": "ipython3",
   "version": "3.11.4"
  },
  "orig_nbformat": 4
 },
 "nbformat": 4,
 "nbformat_minor": 2
}
