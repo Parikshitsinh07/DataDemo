{
 "cells": [
  {
   "cell_type": "markdown",
   "id": "758194d5-a9f8-4b08-8a34-666537220ba1",
   "metadata": {},
   "source": [
    "##### 14. write a Program to copy content one txt file to another text file"
   ]
  },
  {
   "cell_type": "code",
   "execution_count": 3,
   "id": "d81ec5e9-a65e-4d66-9d6b-19df2f51d853",
   "metadata": {},
   "outputs": [
    {
     "data": {
      "text/plain": [
       "'D:\\\\python\\\\py\\\\Complete-Python-3-Bootcamp-master\\\\.ipynb_checkpoints\\\\projectpy\\\\test2.txt'"
      ]
     },
     "execution_count": 3,
     "metadata": {},
     "output_type": "execute_result"
    }
   ],
   "source": [
    "import shutil\n",
    "import os\n",
    "myfile=os.getcwd()+\"\\\\test.txt\"\n",
    "myfile2=os.getcwd()+\"\\\\test2.txt\"\n",
    "shutil.copyfile(myfile, myfile2)"
   ]
  },
  {
   "cell_type": "code",
   "execution_count": 4,
   "id": "fa70f7f2-ea9e-4f19-b463-aad1e3d57ae5",
   "metadata": {},
   "outputs": [],
   "source": [
    "def copy(file1,file2):\n",
    "    try:\n",
    "        f1=open(file1,mode=\"r\")\n",
    "        f2=open(file2,mode=\"w\")\n",
    "        fr=f1.read()\n",
    "        f2.write(fr)\n",
    "        f1.close()\n",
    "        f2.close()\n",
    "    except FileNotFoundError:\n",
    "        print(\"File is not found\")\n",
    "\n",
    "myfile=str(os.getcwd()+\"\\\\test.txt\")\n",
    "myfile2=str(os.getcwd()+\"\\\\test5.txt\")\n",
    "#myfile=open(\"test.txt\")\n",
    "#myfile2=open(\"test2.txt\")\n",
    "copy(myfile,myfile2)"
   ]
  },
  {
   "cell_type": "code",
   "execution_count": null,
   "id": "71e64254-b4fb-4194-917c-2f50e4ca58b3",
   "metadata": {},
   "outputs": [],
   "source": []
  }
 ],
 "metadata": {
  "kernelspec": {
   "display_name": "Python 3 (ipykernel)",
   "language": "python",
   "name": "python3"
  },
  "language_info": {
   "codemirror_mode": {
    "name": "ipython",
    "version": 3
   },
   "file_extension": ".py",
   "mimetype": "text/x-python",
   "name": "python",
   "nbconvert_exporter": "python",
   "pygments_lexer": "ipython3",
   "version": "3.9.6"
  }
 },
 "nbformat": 4,
 "nbformat_minor": 5
}
