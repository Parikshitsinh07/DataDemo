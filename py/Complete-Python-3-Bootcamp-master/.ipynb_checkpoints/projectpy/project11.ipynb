{
 "cells": [
  {
   "cell_type": "markdown",
   "metadata": {},
   "source": [
    "##### 11. Write each string in the data list to a separate line in file (new lines are not automatically included, so they need to be added)"
   ]
  },
  {
   "cell_type": "code",
   "execution_count": 2,
   "metadata": {},
   "outputs": [
    {
     "name": "stdout",
     "output_type": "stream",
     "text": [
      "Elements of list: ['gujarat vidyapith', 'department of computer science', 'subject : python', 'topic : files']\n",
      "gujarat vidyapith\n",
      "department of computer science\n",
      "subject : python\n",
      "topic : files\n",
      "\n"
     ]
    }
   ],
   "source": [
    "data = []\n",
    "ele = int(input(\"Enter the size of list: \"))\n",
    "for i in range(ele):\n",
    "    element = input(\"Enter element: \")\n",
    "    data.append(element)\n",
    "print(\"Elements of list:\", data)\n",
    "\n",
    "myfile = open('Project11.txt',mode=\"w\")\n",
    "for row in data :\n",
    "    myfile.write(row +\"\\n\")\n",
    "myfile = open('Project11.txt',mode=\"r\")\n",
    "print(myfile.read())\n",
    "myfile.close()"
   ]
  }
 ],
 "metadata": {
  "kernelspec": {
   "display_name": "Python 3 (ipykernel)",
   "language": "python",
   "name": "python3"
  },
  "language_info": {
   "codemirror_mode": {
    "name": "ipython",
    "version": 3
   },
   "file_extension": ".py",
   "mimetype": "text/x-python",
   "name": "python",
   "nbconvert_exporter": "python",
   "pygments_lexer": "ipython3",
   "version": "3.9.6"
  }
 },
 "nbformat": 4,
 "nbformat_minor": 4
}
