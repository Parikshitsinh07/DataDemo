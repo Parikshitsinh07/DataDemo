{
 "cells": [
  {
   "cell_type": "markdown",
   "id": "f550521b-9fe4-4a9f-bf7a-b2f48203fc44",
   "metadata": {},
   "source": [
    "#### Create a Pandas Series (series) from a list."
   ]
  },
  {
   "cell_type": "code",
   "execution_count": 2,
   "id": "b59115d3-0e0f-4c0c-8abe-f87cd6ebf79c",
   "metadata": {},
   "outputs": [
    {
     "name": "stdout",
     "output_type": "stream",
     "text": [
      "0    8\n",
      "1    9\n",
      "2    5\n",
      "3    6\n",
      "4    7\n",
      "dtype: int64\n"
     ]
    }
   ],
   "source": [
    "import pandas as pd\n",
    "\n",
    "data = [8,9,5,6,7]\n",
    "series = pd.Series(data)\n",
    "print(series)"
   ]
  },
  {
   "cell_type": "markdown",
   "id": "c0033eb0-eebd-428e-b682-d4e08442b028",
   "metadata": {},
   "source": [
    "#### Access an element by index (series[2])."
   ]
  },
  {
   "cell_type": "code",
   "execution_count": 4,
   "id": "3f27b88d-bd7d-4545-91a5-bd6f3db4a886",
   "metadata": {},
   "outputs": [
    {
     "name": "stdout",
     "output_type": "stream",
     "text": [
      "element at postion two  5\n"
     ]
    }
   ],
   "source": [
    "index_Element= series[2]\n",
    "print(\"element at postion two \",index_Element)"
   ]
  },
  {
   "cell_type": "markdown",
   "id": "78a84c3e-9cc4-45da-a607-28afbdd17344",
   "metadata": {},
   "source": [
    "#### Perform element-wise operations (squaring) on the Series (squared_series)."
   ]
  },
  {
   "cell_type": "code",
   "execution_count": 7,
   "id": "7b53edaa-e89d-4648-80ed-a3c103d4e96b",
   "metadata": {},
   "outputs": [
    {
     "name": "stdout",
     "output_type": "stream",
     "text": [
      "squared series\n",
      " 0    64\n",
      "1    81\n",
      "2    25\n",
      "3    36\n",
      "4    49\n",
      "dtype: int64\n"
     ]
    }
   ],
   "source": [
    "squared_series = series ** 2\n",
    "print(\"squared series\\n\",squared_series)"
   ]
  },
  {
   "cell_type": "markdown",
   "id": "eac83006-1fc4-4faf-9b60-b915c0d3bf45",
   "metadata": {},
   "source": [
    "#### Filter elements in the Series based on a condition (filtered_series)."
   ]
  },
  {
   "cell_type": "code",
   "execution_count": 12,
   "id": "32df823b-72be-48e6-906a-b6c42dc8ad8c",
   "metadata": {},
   "outputs": [
    {
     "name": "stdout",
     "output_type": "stream",
     "text": [
      "0    8\n",
      "1    6\n",
      "dtype: int64\n"
     ]
    }
   ],
   "source": [
    "filtered_numbers = pd.Series([num for num in series if num % 2 == 0])\n",
    "print(filtered_numbers)"
   ]
  },
  {
   "cell_type": "markdown",
   "id": "b4bd798c-5eb3-4208-b557-8c9a38d128a0",
   "metadata": {},
   "source": [
    "#### Calculate descriptive statistics like the mean and maximum value of the Series."
   ]
  },
  {
   "cell_type": "code",
   "execution_count": 9,
   "id": "9ba6f72e-e9ed-4788-9bca-5ad55d9a50f8",
   "metadata": {},
   "outputs": [
    {
     "name": "stdout",
     "output_type": "stream",
     "text": [
      "mean  7.0\n",
      "maximum value  9\n"
     ]
    }
   ],
   "source": [
    "mean = series.mean()\n",
    "max= series.max()\n",
    "print(\"mean \",mean)\n",
    "print(\"maximum value \",max)"
   ]
  },
  {
   "cell_type": "code",
   "execution_count": null,
   "id": "f48e8dcd-b3be-4729-84cf-7a8de49cfaa8",
   "metadata": {},
   "outputs": [],
   "source": []
  }
 ],
 "metadata": {
  "kernelspec": {
   "display_name": "Python 3 (ipykernel)",
   "language": "python",
   "name": "python3"
  },
  "language_info": {
   "codemirror_mode": {
    "name": "ipython",
    "version": 3
   },
   "file_extension": ".py",
   "mimetype": "text/x-python",
   "name": "python",
   "nbconvert_exporter": "python",
   "pygments_lexer": "ipython3",
   "version": "3.9.6"
  }
 },
 "nbformat": 4,
 "nbformat_minor": 5
}
