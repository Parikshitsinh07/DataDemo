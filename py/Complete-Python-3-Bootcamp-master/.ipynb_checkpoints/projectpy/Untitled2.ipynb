{
 "cells": [
  {
   "cell_type": "markdown",
   "id": "2a8da2e8-830d-4505-89b3-93a25cfcb4c0",
   "metadata": {},
   "source": [
    "16 write a program To find out Addition of "
   ]
  },
  {
   "cell_type": "code",
   "execution_count": 1,
   "id": "4d6dcaca-43eb-4c49-b484-2b87024acc19",
   "metadata": {},
   "outputs": [],
   "source": [
    "import numpy as np"
   ]
  },
  {
   "cell_type": "code",
   "execution_count": 5,
   "id": "71673940-5065-4a0c-87c8-2444e369c7c6",
   "metadata": {},
   "outputs": [],
   "source": [
    "Array1= np.array([[2,3,4],[9,8,7]])\n",
    "Array2= np.array([[2,4,6],[9,7,5],[1,3,5]])"
   ]
  },
  {
   "cell_type": "code",
   "execution_count": 6,
   "id": "0eb9a386-c55f-429f-8124-e7f511c01fad",
   "metadata": {},
   "outputs": [
    {
     "name": "stdout",
     "output_type": "stream",
     "text": [
      "[[ 35  41  47]\n",
      " [ 97 113 129]]\n"
     ]
    }
   ],
   "source": [
    "Mul = np.dot(Array1,Array2)\n",
    "print(Mul)"
   ]
  },
  {
   "cell_type": "code",
   "execution_count": 8,
   "id": "44d0be6f-c25d-48e6-852f-20593de8778e",
   "metadata": {},
   "outputs": [],
   "source": [
    "Array1= np.array([[2,3,4],[9,8,7]])\n",
    "Array2= np.array([[2,4,6],[9,7,5]])"
   ]
  },
  {
   "cell_type": "code",
   "execution_count": 10,
   "id": "53ebb95a-49c7-4d32-8367-f131336b2e21",
   "metadata": {},
   "outputs": [
    {
     "name": "stdout",
     "output_type": "stream",
     "text": [
      "[[ 4  7 10]\n",
      " [18 15 12]]\n"
     ]
    }
   ],
   "source": [
    "Sum = Array1+Array2\n",
    "print(Sum)"
   ]
  },
  {
   "cell_type": "code",
   "execution_count": null,
   "id": "413d94f8-c5fe-456b-8f08-918d51d7a0a0",
   "metadata": {},
   "outputs": [],
   "source": []
  }
 ],
 "metadata": {
  "kernelspec": {
   "display_name": "Python 3 (ipykernel)",
   "language": "python",
   "name": "python3"
  },
  "language_info": {
   "codemirror_mode": {
    "name": "ipython",
    "version": 3
   },
   "file_extension": ".py",
   "mimetype": "text/x-python",
   "name": "python",
   "nbconvert_exporter": "python",
   "pygments_lexer": "ipython3",
   "version": "3.9.6"
  }
 },
 "nbformat": 4,
 "nbformat_minor": 5
}
