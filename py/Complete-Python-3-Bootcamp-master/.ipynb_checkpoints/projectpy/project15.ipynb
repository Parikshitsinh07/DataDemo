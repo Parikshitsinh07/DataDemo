{
 "cells": [
  {
   "cell_type": "markdown",
   "id": "c1d7cc0a-cc23-47a1-b753-106f4cbfef8f",
   "metadata": {},
   "source": [
    "##### 15.write a Programm to create child class from car class"
   ]
  },
  {
   "cell_type": "code",
   "execution_count": 1,
   "id": "a36bfd53-407c-489e-b0b0-3f37a1491371",
   "metadata": {},
   "outputs": [],
   "source": [
    "class Vihical:\n",
    "    def __init__(self):\n",
    "        type=\"\"\n",
    "        ger=\"\"\n",
    "        seting=\"\"\n",
    "\n",
    "    def settype(self,tp):\n",
    "        self.type=tp\n",
    "    def setger(self,gr):\n",
    "        self.ger=gr\n",
    "    def setseting(self,st):\n",
    "        self.seting=st\n",
    "    def gettype(self):\n",
    "        return self.type\n",
    "    def getger(self):\n",
    "        return self.ger\n",
    "    def gettype(self):\n",
    "        return self.seting\n",
    "    "
   ]
  },
  {
   "cell_type": "code",
   "execution_count": 19,
   "id": "4b13ac60-3351-4649-b53b-2a2cde5f96a4",
   "metadata": {},
   "outputs": [],
   "source": [
    "class Car(Vihical):\n",
    "    def __init__(self):\n",
    "        Vihical.__init__(self)\n",
    "        self.model = \"\"\n",
    "        self.color = \"\"\n",
    "        self.mf_cnt =\"India\"\n",
    "    def getmodel (self):\n",
    "        return self.model\n",
    "    def getcolor (self):\n",
    "        return self.color\n",
    "    def getmf_cnt (self):\n",
    "        return self.mf_cnt\n",
    "    def setmodel (self,Model):\n",
    "        self.model = Model\n",
    "    def setcolor (self,Color):\n",
    "        self.color = Color\n",
    "    def setmf_cnt (self,Mf_cnt):\n",
    "        self.mf_cnt = Mf_cnt\n",
    "        "
   ]
  },
  {
   "cell_type": "code",
   "execution_count": 45,
   "id": "6f54cf4b-d449-4485-9fb6-7818317f1e69",
   "metadata": {},
   "outputs": [],
   "source": [
    "class Bmw(Car):\n",
    "    sped=\"\"\n",
    "    def __init__(self):\n",
    "        Car.__init__(self)\n",
    "       # self.sped=\"\"\n",
    "        \n",
    "    def start(self):\n",
    "        return \"Car is Started\"    \n",
    "    def brack(self,speed):\n",
    "        sped=speed\n",
    "        for i in range(sped,0,-1):\n",
    "            print(\"car is run.. and speed is \",i)\n",
    "            if(i==0):\n",
    "                print(\"stop tha car\")\n",
    "\n",
    "            \n",
    "    def run(self,speed):\n",
    "        sped=speed\n",
    "        for i in range(sped):\n",
    "            print(\"car is run.. and speed is \",i)\n",
    "        "
   ]
  },
  {
   "cell_type": "code",
   "execution_count": 48,
   "id": "3e31df1c-028d-4010-af33-aaea34071333",
   "metadata": {},
   "outputs": [
    {
     "name": "stdout",
     "output_type": "stream",
     "text": [
      "Model Name is: BMW\n",
      "Car color is: Black\n",
      "Modifay Cuntry is : India\n"
     ]
    },
    {
     "name": "stdin",
     "output_type": "stream",
     "text": [
      "Press 1 for Start Your car ? 1\n"
     ]
    },
    {
     "name": "stdout",
     "output_type": "stream",
     "text": [
      "Car is Started\n"
     ]
    },
    {
     "name": "stdin",
     "output_type": "stream",
     "text": [
      "Give me a speed to Drive a car ? 10\n"
     ]
    },
    {
     "name": "stdout",
     "output_type": "stream",
     "text": [
      "car is run.. and speed is  0\n",
      "car is run.. and speed is  1\n",
      "car is run.. and speed is  2\n",
      "car is run.. and speed is  3\n",
      "car is run.. and speed is  4\n",
      "car is run.. and speed is  5\n",
      "car is run.. and speed is  6\n",
      "car is run.. and speed is  7\n",
      "car is run.. and speed is  8\n",
      "car is run.. and speed is  9\n",
      "car is run.. and speed is  10\n",
      "car is run.. and speed is  9\n",
      "car is run.. and speed is  8\n",
      "car is run.. and speed is  7\n",
      "car is run.. and speed is  6\n",
      "car is run.. and speed is  5\n",
      "car is run.. and speed is  4\n",
      "car is run.. and speed is  3\n",
      "car is run.. and speed is  2\n",
      "car is run.. and speed is  1\n"
     ]
    }
   ],
   "source": [
    "drive = Bmw()\n",
    "drive.settype(4)\n",
    "drive.setger(2)\n",
    "drive.setseting(4)\n",
    "drive.setmodel(\"BMW\")\n",
    "drive.setcolor(\"Black\")\n",
    "drive.setmf_cnt(\"India\")\n",
    "print(\"Model Name is:\",drive.getmodel())\n",
    "print(\"Car color is:\",drive.getcolor())\n",
    "print(\"Modifay Cuntry is :\",drive.getmf_cnt())\n",
    "cs=int(input(\"Press 1 for Start Your car ?\"))\n",
    "if cs==1:\n",
    "    print(drive.start())\n",
    "    cr=int(input(\"Give me a speed to Drive a car ?\"))\n",
    "    if cr in range(250):\n",
    "        drive.run(cr)\n",
    "        drive.brack(cr)\n",
    "    "
   ]
  },
  {
   "cell_type": "code",
   "execution_count": 40,
   "id": "4ebd197f-8d96-463b-8261-ca895f535a61",
   "metadata": {},
   "outputs": [
    {
     "name": "stdout",
     "output_type": "stream",
     "text": [
      "10\n",
      "9\n",
      "8\n",
      "7\n",
      "6\n",
      "5\n",
      "4\n",
      "3\n",
      "2\n",
      "1\n"
     ]
    }
   ],
   "source": []
  },
  {
   "cell_type": "code",
   "execution_count": null,
   "id": "2fd9e2fa-5de1-4a3a-8174-3265864ab297",
   "metadata": {},
   "outputs": [],
   "source": []
  }
 ],
 "metadata": {
  "kernelspec": {
   "display_name": "Python 3 (ipykernel)",
   "language": "python",
   "name": "python3"
  },
  "language_info": {
   "codemirror_mode": {
    "name": "ipython",
    "version": 3
   },
   "file_extension": ".py",
   "mimetype": "text/x-python",
   "name": "python",
   "nbconvert_exporter": "python",
   "pygments_lexer": "ipython3",
   "version": "3.9.6"
  }
 },
 "nbformat": 4,
 "nbformat_minor": 5
}
