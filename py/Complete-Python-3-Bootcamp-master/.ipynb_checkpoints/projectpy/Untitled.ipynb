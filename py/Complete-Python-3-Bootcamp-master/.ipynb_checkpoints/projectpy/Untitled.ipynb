{
 "cells": [
  {
   "cell_type": "code",
   "execution_count": 1,
   "id": "a411ec6d-c6e1-4aff-92be-bb898e7d366b",
   "metadata": {},
   "outputs": [],
   "source": [
    "pr= lambda total,marks : (marks/total)*100 "
   ]
  },
  {
   "cell_type": "code",
   "execution_count": null,
   "id": "284c2873-9b8e-4f0b-9b9c-237454f7b1c2",
   "metadata": {},
   "outputs": [],
   "source": [
    "total = int(input(\"Enter Your Total Ma"
   ]
  }
 ],
 "metadata": {
  "kernelspec": {
   "display_name": "Python 3 (ipykernel)",
   "language": "python",
   "name": "python3"
  },
  "language_info": {
   "codemirror_mode": {
    "name": "ipython",
    "version": 3
   },
   "file_extension": ".py",
   "mimetype": "text/x-python",
   "name": "python",
   "nbconvert_exporter": "python",
   "pygments_lexer": "ipython3",
   "version": "3.9.6"
  }
 },
 "nbformat": 4,
 "nbformat_minor": 5
}
