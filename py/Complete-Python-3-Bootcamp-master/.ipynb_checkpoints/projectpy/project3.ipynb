{
 "cells": [
  {
   "cell_type": "markdown",
   "metadata": {},
   "source": [
    "##### 3. Write a program to find sum of 'n' number"
   ]
  },
  {
   "cell_type": "code",
   "execution_count": 2,
   "metadata": {},
   "outputs": [
    {
     "name": "stdout",
     "output_type": "stream",
     "text": [
      "Sum of 5 number is : 15\n"
     ]
    }
   ],
   "source": [
    "no = int(input(\"Enter number : \"))\n",
    "num = no + 1\n",
    "sum = 0\n",
    "for i in range (0,num):\n",
    "    sum += int(i)\n",
    "print(\"Sum of\",no,\"number is :\",sum)"
   ]
  }
 ],
 "metadata": {
  "kernelspec": {
   "display_name": "Python 3 (ipykernel)",
   "language": "python",
   "name": "python3"
  },
  "language_info": {
   "codemirror_mode": {
    "name": "ipython",
    "version": 3
   },
   "file_extension": ".py",
   "mimetype": "text/x-python",
   "name": "python",
   "nbconvert_exporter": "python",
   "pygments_lexer": "ipython3",
   "version": "3.9.6"
  }
 },
 "nbformat": 4,
 "nbformat_minor": 4
}
