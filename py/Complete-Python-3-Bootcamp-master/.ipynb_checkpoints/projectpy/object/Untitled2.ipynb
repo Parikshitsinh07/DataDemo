{
 "cells": [
  {
   "cell_type": "code",
   "execution_count": 4,
   "id": "ba1fef98-50ae-49e2-a7a2-83f687d51d6a",
   "metadata": {},
   "outputs": [
    {
     "name": "stdout",
     "output_type": "stream",
     "text": [
      "[1, 2, 3, 4, 5, 1, 2, 3, 4, 5]\n"
     ]
    }
   ],
   "source": [
    "l1=[1,2,3,4,5]\n",
    "print(l1*2)"
   ]
  },
  {
   "cell_type": "code",
   "execution_count": 5,
   "id": "bae968ad-1e84-4448-b37a-841d45000138",
   "metadata": {},
   "outputs": [
    {
     "name": "stdout",
     "output_type": "stream",
     "text": [
      "8\n"
     ]
    }
   ],
   "source": [
    "l2=[[3,4,5,6,7],[3,4,5,6,7],[3,4,5,6,8]]\n",
    "print(l2[2][4])"
   ]
  },
  {
   "cell_type": "code",
   "execution_count": 6,
   "id": "c4fa10c3-ec71-48c5-bf89-7e81b1a951e4",
   "metadata": {},
   "outputs": [
    {
     "ename": "NameError",
     "evalue": "name 'append' is not defined",
     "output_type": "error",
     "traceback": [
      "\u001b[1;31m---------------------------------------------------------------------------\u001b[0m",
      "\u001b[1;31mNameError\u001b[0m                                 Traceback (most recent call last)",
      "Cell \u001b[1;32mIn[6], line 1\u001b[0m\n\u001b[1;32m----> 1\u001b[0m \u001b[43mappend\u001b[49m\n",
      "\u001b[1;31mNameError\u001b[0m: name 'append' is not defined"
     ]
    }
   ],
   "source": [
    "append"
   ]
  },
  {
   "cell_type": "code",
   "execution_count": 7,
   "id": "8e6ddc55-e8ff-4259-a39d-496299706f03",
   "metadata": {},
   "outputs": [],
   "source": [
    "import numpy as np"
   ]
  },
  {
   "cell_type": "code",
   "execution_count": 8,
   "id": "80d5dbd8-05aa-43bf-88ff-2bd7ac9fff2b",
   "metadata": {},
   "outputs": [
    {
     "name": "stdout",
     "output_type": "stream",
     "text": [
      "[3 4 5 6 7]\n",
      "<class 'numpy.ndarray'>\n"
     ]
    }
   ],
   "source": [
    "n1 = np.array([3,4,5,6,7])\n",
    "print(n1)\n",
    "print(type(n1))"
   ]
  },
  {
   "cell_type": "code",
   "execution_count": 9,
   "id": "046ac693-a458-44e7-aeb2-78091fe4249d",
   "metadata": {},
   "outputs": [
    {
     "name": "stdout",
     "output_type": "stream",
     "text": [
      "[ 6  8 10 12 14]\n"
     ]
    }
   ],
   "source": [
    "print(n1*2)"
   ]
  },
  {
   "cell_type": "code",
   "execution_count": 12,
   "id": "ef9e4b95-75f7-4ce0-b21a-30529dc70818",
   "metadata": {},
   "outputs": [
    {
     "name": "stdout",
     "output_type": "stream",
     "text": [
      "(5,)\n",
      "5\n",
      "1\n"
     ]
    }
   ],
   "source": [
    "print(n1.shape)\n",
    "print(n1.size)\n",
    "print(n1.ndim)"
   ]
  },
  {
   "cell_type": "code",
   "execution_count": 15,
   "id": "c84a4286-cdd6-4274-821b-eb9da1636261",
   "metadata": {},
   "outputs": [
    {
     "ename": "AttributeError",
     "evalue": "'list' object has no attribute 'size'",
     "output_type": "error",
     "traceback": [
      "\u001b[1;31m---------------------------------------------------------------------------\u001b[0m",
      "\u001b[1;31mAttributeError\u001b[0m                            Traceback (most recent call last)",
      "Cell \u001b[1;32mIn[15], line 2\u001b[0m\n\u001b[0;32m      1\u001b[0m \u001b[38;5;66;03m#print(l1.shape)\u001b[39;00m\n\u001b[1;32m----> 2\u001b[0m \u001b[38;5;28mprint\u001b[39m(\u001b[43ml1\u001b[49m\u001b[38;5;241;43m.\u001b[39;49m\u001b[43msize\u001b[49m)\n\u001b[0;32m      3\u001b[0m \u001b[38;5;66;03m#print(l1.ndim)\u001b[39;00m\n",
      "\u001b[1;31mAttributeError\u001b[0m: 'list' object has no attribute 'size'"
     ]
    }
   ],
   "source": [
    "#print(l1.shape)\n",
    "#print(l1.size)\n",
    "#print(l1.ndim)"
   ]
  },
  {
   "cell_type": "code",
   "execution_count": 18,
   "id": "6b665be7-b6ce-4b6f-a22d-ac03269e84e0",
   "metadata": {},
   "outputs": [],
   "source": [
    "n1 = np.array([[3,4,5,6,7],[13,14,15,16,17]])"
   ]
  },
  {
   "cell_type": "code",
   "execution_count": 19,
   "id": "fe6fcf5d-5a1f-425e-9964-b257a7381a1a",
   "metadata": {},
   "outputs": [],
   "source": [
    "n2 = np.array([[3,4,5,6,7],[3,4,5,6,7],[3,4,5,6,7]])"
   ]
  },
  {
   "cell_type": "code",
   "execution_count": 20,
   "id": "4cb09f54-7942-499c-8a1c-92decc06022f",
   "metadata": {},
   "outputs": [
    {
     "name": "stdout",
     "output_type": "stream",
     "text": [
      "(3, 5)\n",
      "15\n",
      "2\n"
     ]
    }
   ],
   "source": [
    "print(n2.shape)\n",
    "print(n2.size)\n",
    "print(n2.ndim)"
   ]
  },
  {
   "cell_type": "code",
   "execution_count": null,
   "id": "124baae9-4720-4a97-99c7-925444d37d4c",
   "metadata": {},
   "outputs": [],
   "source": []
  }
 ],
 "metadata": {
  "kernelspec": {
   "display_name": "Python 3 (ipykernel)",
   "language": "python",
   "name": "python3"
  },
  "language_info": {
   "codemirror_mode": {
    "name": "ipython",
    "version": 3
   },
   "file_extension": ".py",
   "mimetype": "text/x-python",
   "name": "python",
   "nbconvert_exporter": "python",
   "pygments_lexer": "ipython3",
   "version": "3.9.6"
  }
 },
 "nbformat": 4,
 "nbformat_minor": 5
}
