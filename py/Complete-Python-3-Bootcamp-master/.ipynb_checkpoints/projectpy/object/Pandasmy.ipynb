{
 "cells": [
  {
   "cell_type": "code",
   "execution_count": 1,
   "id": "c57f61b3-ad91-4d11-acc8-e9e2250c2497",
   "metadata": {},
   "outputs": [],
   "source": [
    "import pandas as pd"
   ]
  },
  {
   "cell_type": "code",
   "execution_count": 2,
   "id": "2082a0c7-8b15-469e-a697-9da9dfa02f2b",
   "metadata": {},
   "outputs": [],
   "source": [
    "myData={\n",
    "        \"Roll No\":[101,102,103,104],\n",
    "        \"Sname\":[\"Parikshit\",\"Maulik\",\"Zaran\",\"Jemis\"],\n",
    "        \"Python Marks\":[68,65,50,75],\n",
    "        \"Java Marks\":[70,60,55,72],\n",
    "        \"Ds Marks\":[75,63,47,70]\n",
    "        }"
   ]
  },
  {
   "cell_type": "code",
   "execution_count": 13,
   "id": "1b3f4a9f-6689-4097-9590-a27cd1be25c3",
   "metadata": {},
   "outputs": [
    {
     "data": {
      "text/html": [
       "<div>\n",
       "<style scoped>\n",
       "    .dataframe tbody tr th:only-of-type {\n",
       "        vertical-align: middle;\n",
       "    }\n",
       "\n",
       "    .dataframe tbody tr th {\n",
       "        vertical-align: top;\n",
       "    }\n",
       "\n",
       "    .dataframe thead th {\n",
       "        text-align: right;\n",
       "    }\n",
       "</style>\n",
       "<table border=\"1\" class=\"dataframe\">\n",
       "  <thead>\n",
       "    <tr style=\"text-align: right;\">\n",
       "      <th></th>\n",
       "      <th>Roll No</th>\n",
       "      <th>Sname</th>\n",
       "      <th>Python Marks</th>\n",
       "      <th>Java Marks</th>\n",
       "      <th>Ds Marks</th>\n",
       "    </tr>\n",
       "  </thead>\n",
       "  <tbody>\n",
       "    <tr>\n",
       "      <th></th>\n",
       "      <td>101</td>\n",
       "      <td>Parikshit</td>\n",
       "      <td>68</td>\n",
       "      <td>70</td>\n",
       "      <td>75</td>\n",
       "    </tr>\n",
       "    <tr>\n",
       "      <th></th>\n",
       "      <td>102</td>\n",
       "      <td>Maulik</td>\n",
       "      <td>65</td>\n",
       "      <td>60</td>\n",
       "      <td>63</td>\n",
       "    </tr>\n",
       "    <tr>\n",
       "      <th></th>\n",
       "      <td>103</td>\n",
       "      <td>Zaran</td>\n",
       "      <td>50</td>\n",
       "      <td>55</td>\n",
       "      <td>47</td>\n",
       "    </tr>\n",
       "    <tr>\n",
       "      <th></th>\n",
       "      <td>104</td>\n",
       "      <td>Jemis</td>\n",
       "      <td>75</td>\n",
       "      <td>72</td>\n",
       "      <td>70</td>\n",
       "    </tr>\n",
       "  </tbody>\n",
       "</table>\n",
       "</div>"
      ],
      "text/plain": [
       "   Roll No      Sname  Python Marks  Java Marks  Ds Marks\n",
       "       101  Parikshit            68          70        75\n",
       "       102     Maulik            65          60        63\n",
       "       103      Zaran            50          55        47\n",
       "       104      Jemis            75          72        70"
      ]
     },
     "execution_count": 13,
     "metadata": {},
     "output_type": "execute_result"
    }
   ],
   "source": [
    "MyDataFream = pd.DataFrame(myData,index = [\" \", \" \", \" \",\" \"])\n",
    "MyDataFream"
   ]
  },
  {
   "cell_type": "code",
   "execution_count": 8,
   "id": "cdc208f5-c3a1-4204-9ff2-e7a81ee59b36",
   "metadata": {},
   "outputs": [
    {
     "name": "stdout",
     "output_type": "stream",
     "text": [
      "<class 'pandas.core.series.Series'>\n",
      "0    101\n",
      "1    102\n",
      "2    103\n",
      "3    104\n",
      "dtype: int64\n"
     ]
    }
   ],
   "source": [
    "S=pd.Series([101,102,103,104])\n",
    "print(type(S))\n",
    "print(S)"
   ]
  },
  {
   "cell_type": "code",
   "execution_count": 14,
   "id": "7ad88ae8-b5f2-4548-bb7e-062285e61c7e",
   "metadata": {},
   "outputs": [
    {
     "name": "stdout",
     "output_type": "stream",
     "text": [
      "x    1\n",
      "y    7\n",
      "z    2\n",
      "dtype: int64\n"
     ]
    }
   ],
   "source": [
    "a = [1, 7, 2]\n",
    "\n",
    "myvar = pd.Series(a, index = [\"x\", \"y\", \"z\"])\n",
    "\n",
    "print(myvar)"
   ]
  },
  {
   "cell_type": "code",
   "execution_count": 15,
   "id": "1db0d29f-e7ae-4244-a505-97b7641c7429",
   "metadata": {},
   "outputs": [
    {
     "name": "stdout",
     "output_type": "stream",
     "text": [
      "day1    420\n",
      "day2    380\n",
      "day3    390\n",
      "dtype: int64\n"
     ]
    }
   ],
   "source": [
    "calories = {\"day1\": 420, \"day2\": 380, \"day3\": 390}\n",
    "\n",
    "myvar = pd.Series(calories)\n",
    "\n",
    "print(myvar)"
   ]
  },
  {
   "cell_type": "code",
   "execution_count": 16,
   "id": "cd93a206-f3f1-4dfb-81ab-68f875ed291f",
   "metadata": {},
   "outputs": [
    {
     "name": "stdout",
     "output_type": "stream",
     "text": [
      "day1    420\n",
      "day2    380\n",
      "dtype: int64\n"
     ]
    }
   ],
   "source": [
    "calories = {\"day1\": 420, \"day2\": 380, \"day3\": 390}\n",
    "\n",
    "myvar = pd.Series(calories, index = [\"day1\", \"day2\"])\n",
    "\n",
    "print(myvar)"
   ]
  },
  {
   "cell_type": "code",
   "execution_count": 20,
   "id": "3b955af3-fbb2-43ac-9e26-00acc222155d",
   "metadata": {},
   "outputs": [
    {
     "data": {
      "text/html": [
       "<div>\n",
       "<style scoped>\n",
       "    .dataframe tbody tr th:only-of-type {\n",
       "        vertical-align: middle;\n",
       "    }\n",
       "\n",
       "    .dataframe tbody tr th {\n",
       "        vertical-align: top;\n",
       "    }\n",
       "\n",
       "    .dataframe thead th {\n",
       "        text-align: right;\n",
       "    }\n",
       "</style>\n",
       "<table border=\"1\" class=\"dataframe\">\n",
       "  <thead>\n",
       "    <tr style=\"text-align: right;\">\n",
       "      <th></th>\n",
       "      <th>Roll No</th>\n",
       "      <th>Sname</th>\n",
       "      <th>Python Marks</th>\n",
       "      <th>Java Marks</th>\n",
       "      <th>Ds Marks</th>\n",
       "    </tr>\n",
       "  </thead>\n",
       "  <tbody>\n",
       "    <tr>\n",
       "      <th>0</th>\n",
       "      <td>101</td>\n",
       "      <td>Parikshit</td>\n",
       "      <td>68</td>\n",
       "      <td>70</td>\n",
       "      <td>75</td>\n",
       "    </tr>\n",
       "    <tr>\n",
       "      <th>1</th>\n",
       "      <td>102</td>\n",
       "      <td>Maulik</td>\n",
       "      <td>65</td>\n",
       "      <td>60</td>\n",
       "      <td>63</td>\n",
       "    </tr>\n",
       "    <tr>\n",
       "      <th>2</th>\n",
       "      <td>103</td>\n",
       "      <td>Zaran</td>\n",
       "      <td>50</td>\n",
       "      <td>55</td>\n",
       "      <td>47</td>\n",
       "    </tr>\n",
       "    <tr>\n",
       "      <th>3</th>\n",
       "      <td>104</td>\n",
       "      <td>Jemis</td>\n",
       "      <td>75</td>\n",
       "      <td>72</td>\n",
       "      <td>70</td>\n",
       "    </tr>\n",
       "  </tbody>\n",
       "</table>\n",
       "</div>"
      ],
      "text/plain": [
       "   Roll No      Sname  Python Marks  Java Marks  Ds Marks\n",
       "0      101  Parikshit            68          70        75\n",
       "1      102     Maulik            65          60        63\n",
       "2      103      Zaran            50          55        47\n",
       "3      104      Jemis            75          72        70"
      ]
     },
     "execution_count": 20,
     "metadata": {},
     "output_type": "execute_result"
    }
   ],
   "source": [
    "MyDataFream2 = pd.DataFrame(myData)\n",
    "MyDataFream2"
   ]
  },
  {
   "cell_type": "code",
   "execution_count": 22,
   "id": "8f37b500-68ea-4a1a-96f2-b23c179dd11d",
   "metadata": {},
   "outputs": [
    {
     "name": "stdout",
     "output_type": "stream",
     "text": [
      "Roll No               101\n",
      "Sname           Parikshit\n",
      "Python Marks           68\n",
      "Java Marks             70\n",
      "Ds Marks               75\n",
      "Name: 0, dtype: object\n"
     ]
    }
   ],
   "source": [
    "print(MyDataFream2.loc[0])"
   ]
  },
  {
   "cell_type": "code",
   "execution_count": null,
   "id": "3c26e066-5bce-4601-9a96-3a06759f2f0f",
   "metadata": {},
   "outputs": [],
   "source": []
  }
 ],
 "metadata": {
  "kernelspec": {
   "display_name": "Python 3 (ipykernel)",
   "language": "python",
   "name": "python3"
  },
  "language_info": {
   "codemirror_mode": {
    "name": "ipython",
    "version": 3
   },
   "file_extension": ".py",
   "mimetype": "text/x-python",
   "name": "python",
   "nbconvert_exporter": "python",
   "pygments_lexer": "ipython3",
   "version": "3.9.6"
  }
 },
 "nbformat": 4,
 "nbformat_minor": 5
}
