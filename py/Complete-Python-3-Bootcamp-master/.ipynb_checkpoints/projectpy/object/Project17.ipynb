{
 "cells": [
  {
   "cell_type": "code",
   "execution_count": 3,
   "id": "bb04e00a-6910-423f-abd6-a4ccda1d4183",
   "metadata": {},
   "outputs": [],
   "source": [
    "import numpy as np"
   ]
  },
  {
   "cell_type": "code",
   "execution_count": 2,
   "id": "0ed886f2-3161-47f1-98d0-c42e460f1a7a",
   "metadata": {},
   "outputs": [
    {
     "name": "stdout",
     "output_type": "stream",
     "text": [
      "[1 2 3 4]\n"
     ]
    }
   ],
   "source": [
    "array = np.array([1,2,3,4])\n",
    "print(array)"
   ]
  },
  {
   "cell_type": "code",
   "execution_count": 3,
   "id": "60fc3599-020a-4316-95b6-77bef1877f26",
   "metadata": {},
   "outputs": [
    {
     "name": "stdout",
     "output_type": "stream",
     "text": [
      "2\n"
     ]
    }
   ],
   "source": [
    "array = np.array([1,2,3,4])\n",
    "print(array[1])"
   ]
  },
  {
   "cell_type": "code",
   "execution_count": 4,
   "id": "0e6abe28-e6b2-45e6-b046-e10d8221127c",
   "metadata": {},
   "outputs": [
    {
     "ename": "TypeError",
     "evalue": "Field elements must be 2- or 3-tuples, got '5'",
     "output_type": "error",
     "traceback": [
      "\u001b[1;31m---------------------------------------------------------------------------\u001b[0m",
      "\u001b[1;31mTypeError\u001b[0m                                 Traceback (most recent call last)",
      "Cell \u001b[1;32mIn[4], line 1\u001b[0m\n\u001b[1;32m----> 1\u001b[0m array \u001b[38;5;241m=\u001b[39m \u001b[43mnp\u001b[49m\u001b[38;5;241;43m.\u001b[39;49m\u001b[43marray\u001b[49m\u001b[43m(\u001b[49m\u001b[43m[\u001b[49m\u001b[38;5;241;43m1\u001b[39;49m\u001b[43m,\u001b[49m\u001b[38;5;241;43m2\u001b[39;49m\u001b[43m,\u001b[49m\u001b[38;5;241;43m3\u001b[39;49m\u001b[43m,\u001b[49m\u001b[38;5;241;43m4\u001b[39;49m\u001b[43m]\u001b[49m\u001b[43m,\u001b[49m\u001b[43m[\u001b[49m\u001b[38;5;241;43m5\u001b[39;49m\u001b[43m,\u001b[49m\u001b[38;5;241;43m6\u001b[39;49m\u001b[43m,\u001b[49m\u001b[38;5;241;43m7\u001b[39;49m\u001b[43m,\u001b[49m\u001b[38;5;241;43m8\u001b[39;49m\u001b[43m]\u001b[49m\u001b[43m)\u001b[49m\n\u001b[0;32m      2\u001b[0m \u001b[38;5;28mprint\u001b[39m(array)\n",
      "\u001b[1;31mTypeError\u001b[0m: Field elements must be 2- or 3-tuples, got '5'"
     ]
    }
   ],
   "source": [
    "array = np.array([1,2,3,4],[5,6,7,8])\n",
    "print(array)"
   ]
  },
  {
   "cell_type": "code",
   "execution_count": 10,
   "id": "92870082-96b7-43a2-a735-4bad0d2a67a5",
   "metadata": {},
   "outputs": [
    {
     "name": "stdout",
     "output_type": "stream",
     "text": [
      "[[1 2 3 4]\n",
      " [5 6 7 8]]\n",
      "8\n",
      "(2, 4)\n",
      "2\n"
     ]
    }
   ],
   "source": [
    "array = np.array([[1,2,3,4],[5,6,7,8]])\n",
    "print(array)\n",
    "print(array.size)\n",
    "print(array.shape)\n",
    "print(array.ndim)"
   ]
  },
  {
   "cell_type": "code",
   "execution_count": 11,
   "id": "73987605-5751-4a34-ac2d-622118519e54",
   "metadata": {},
   "outputs": [
    {
     "name": "stdout",
     "output_type": "stream",
     "text": [
      "4\n"
     ]
    }
   ],
   "source": [
    "print(array[0][3])"
   ]
  },
  {
   "cell_type": "code",
   "execution_count": 23,
   "id": "cb1e02c3-69ee-4450-bc75-1ec4df356621",
   "metadata": {},
   "outputs": [
    {
     "name": "stdout",
     "output_type": "stream",
     "text": [
      "[[[ 1  2  3  4]\n",
      "  [ 5  6  7  8]]\n",
      "\n",
      " [[ 9 10 11 12]\n",
      "  [13 14 15 16]]]\n"
     ]
    }
   ],
   "source": [
    "array = np.array([[[[1,2,3,4],[5,6,7,8]],[[9,10,11,12],[13,14,15,16]]]])\n",
    "print(array)"
   ]
  },
  {
   "cell_type": "code",
   "execution_count": 20,
   "id": "21ba1e91-8e0e-4121-bc03-a7cf307b8873",
   "metadata": {},
   "outputs": [
    {
     "name": "stdout",
     "output_type": "stream",
     "text": [
      "12\n",
      "(1, 3, 4)\n",
      "3\n"
     ]
    }
   ],
   "source": [
    "print(array.size)\n",
    "print(array.shape)\n",
    "print(array.ndim)"
   ]
  },
  {
   "cell_type": "code",
   "execution_count": 25,
   "id": "e1ebc100-e2ef-459d-85c7-af79a47572cf",
   "metadata": {},
   "outputs": [
    {
     "name": "stdout",
     "output_type": "stream",
     "text": [
      "10\n"
     ]
    }
   ],
   "source": [
    "print(array[1][0][1])"
   ]
  },
  {
   "cell_type": "code",
   "execution_count": 30,
   "id": "8e54feec-06f4-49e0-8e2b-7b1e854c7009",
   "metadata": {},
   "outputs": [
    {
     "name": "stdout",
     "output_type": "stream",
     "text": [
      "[[[[ 1  2  3  4]\n",
      "   [ 5  6  7  8]]\n",
      "\n",
      "  [[ 9 10 11 12]\n",
      "   [13 14 15 16]]\n",
      "\n",
      "  [[17 18 19 20]\n",
      "   [21 22 23 24]]]]\n"
     ]
    }
   ],
   "source": [
    "array = np.array([[[[1,2,3,4],[5,6,7,8]],[[9,10,11,12],[13,14,15,16]],[[17,18,19,20],[21,22,23,24]]]])\n",
    "print(array)"
   ]
  },
  {
   "cell_type": "code",
   "execution_count": 27,
   "id": "7ca6d4a5-557f-4ed4-8df0-971840ccd634",
   "metadata": {},
   "outputs": [
    {
     "name": "stdout",
     "output_type": "stream",
     "text": [
      "16\n",
      "(1, 2, 2, 4)\n",
      "4\n"
     ]
    }
   ],
   "source": [
    "print(array.size)\n",
    "print(array.shape)\n",
    "print(array.ndim)"
   ]
  },
  {
   "cell_type": "code",
   "execution_count": 31,
   "id": "320c5b5a-8270-46cc-8c29-d05c7c5394ca",
   "metadata": {},
   "outputs": [
    {
     "name": "stdout",
     "output_type": "stream",
     "text": [
      "19\n"
     ]
    }
   ],
   "source": [
    "print(array[0][2][0][2])"
   ]
  },
  {
   "cell_type": "code",
   "execution_count": 34,
   "id": "3fc80bb5-66d2-41ae-a09d-252cb44fcdb3",
   "metadata": {},
   "outputs": [],
   "source": [
    "#2x+3y+5z=15\n",
    "#5x+6y+7z=20\n",
    "#9x+9y-15=25\n",
    "A = np.array([[2,3,5],[5,6,7],[9,9,15]])\n",
    "B = np.array([['X','Y','Z']])\n",
    "C = np.array([[15,20,25]])"
   ]
  },
  {
   "cell_type": "code",
   "execution_count": 35,
   "id": "c2813c24-3fb8-4675-b56f-f64c796d3091",
   "metadata": {},
   "outputs": [
    {
     "data": {
      "text/plain": [
       "array([[ 30,  60, 125],\n",
       "       [ 75, 120, 175],\n",
       "       [135, 180, 375]])"
      ]
     },
     "execution_count": 35,
     "metadata": {},
     "output_type": "execute_result"
    }
   ],
   "source": [
    "#worng Mulitpication\n",
    "A*C"
   ]
  },
  {
   "cell_type": "code",
   "execution_count": 40,
   "id": "35e9af99-ce80-4a40-a3e5-265bb465cc22",
   "metadata": {},
   "outputs": [
    {
     "name": "stdout",
     "output_type": "stream",
     "text": [
      "[[215]\n",
      " [370]\n",
      " [690]]\n"
     ]
    }
   ],
   "source": [
    "Ans = np.dot(A,C.T)\n",
    "print(Ans)"
   ]
  },
  {
   "cell_type": "code",
   "execution_count": 41,
   "id": "a2ae59b7-c415-4293-a9c0-0563c9d259e5",
   "metadata": {},
   "outputs": [
    {
     "name": "stdout",
     "output_type": "stream",
     "text": [
      "[[-1.00000000e+00 -1.23358114e-17  3.33333333e-01]\n",
      " [ 4.44444444e-01  5.55555556e-01 -4.07407407e-01]\n",
      " [ 3.33333333e-01 -3.33333333e-01  1.11111111e-01]]\n"
     ]
    }
   ],
   "source": [
    "inverA = np.linalg.inv(A)\n",
    "print(inverA)"
   ]
  },
  {
   "cell_type": "code",
   "execution_count": 43,
   "id": "d85f50e7-60f7-4c21-a34f-6268c0226933",
   "metadata": {},
   "outputs": [
    {
     "name": "stdout",
     "output_type": "stream",
     "text": [
      "[[-6.66666667]\n",
      " [ 7.59259259]\n",
      " [ 1.11111111]]\n"
     ]
    }
   ],
   "source": [
    "AnsX=np.dot(inverA,C.T)\n",
    "print(AnsX)"
   ]
  },
  {
   "cell_type": "code",
   "execution_count": 45,
   "id": "1d083d6b-320d-473a-bcb1-503e59354546",
   "metadata": {},
   "outputs": [
    {
     "name": "stdout",
     "output_type": "stream",
     "text": [
      "[[15.]\n",
      " [20.]\n",
      " [25.]]\n"
     ]
    }
   ],
   "source": [
    "print(np.dot(A,AnsX))"
   ]
  },
  {
   "cell_type": "markdown",
   "id": "57b33e27-354a-44f5-8a98-1969de68b477",
   "metadata": {},
   "source": [
    "1--> 6x + 5 = 14 ,2--> 3x - 6 = 9, 3--> x + 9 = 16"
   ]
  },
  {
   "cell_type": "code",
   "execution_count": 14,
   "id": "aa8fdaaf-d5fe-49e1-b0bf-070342b09763",
   "metadata": {},
   "outputs": [],
   "source": [
    "K = np.array([[1,2],[3,5]])\n",
    "J = np.array([['X','Y']])\n",
    "M = np.array([[5,14]])"
   ]
  },
  {
   "cell_type": "code",
   "execution_count": 16,
   "id": "866056cf-2cb6-41bb-bf04-3dba55a33c2d",
   "metadata": {},
   "outputs": [
    {
     "name": "stdout",
     "output_type": "stream",
     "text": [
      "[[-5.  2.]\n",
      " [ 3. -1.]]\n"
     ]
    }
   ],
   "source": [
    "inverA = np.linalg.inv(K)\n",
    "print(inverA)"
   ]
  },
  {
   "cell_type": "code",
   "execution_count": 21,
   "id": "764e5270-01de-43eb-9034-a788c3aefcc3",
   "metadata": {},
   "outputs": [
    {
     "name": "stdout",
     "output_type": "stream",
     "text": [
      "[[3.]\n",
      " [1.]]\n"
     ]
    }
   ],
   "source": [
    "AnsX=np.dot(inverA,M.T)\n",
    "print(AnsX)"
   ]
  },
  {
   "cell_type": "code",
   "execution_count": 23,
   "id": "b66598d6-66f1-45f1-98e1-e46c299467a2",
   "metadata": {},
   "outputs": [
    {
     "name": "stdout",
     "output_type": "stream",
     "text": [
      "[[ 5.]\n",
      " [14.]]\n"
     ]
    }
   ],
   "source": [
    "print(np.dot(K,AnsX))"
   ]
  },
  {
   "cell_type": "markdown",
   "id": "545ca018-6fad-42da-921b-9758e1d889cb",
   "metadata": {},
   "source": [
    "x – 2y = 5\n",
    "\n",
    "4x – 3y – z = 3\n",
    "\n",
    "5y – 7z = 9"
   ]
  },
  {
   "cell_type": "code",
   "execution_count": null,
   "id": "100df3e1-7dfb-4f7b-8515-f62e2cdebaee",
   "metadata": {},
   "outputs": [],
   "source": []
  }
 ],
 "metadata": {
  "kernelspec": {
   "display_name": "Python 3 (ipykernel)",
   "language": "python",
   "name": "python3"
  },
  "language_info": {
   "codemirror_mode": {
    "name": "ipython",
    "version": 3
   },
   "file_extension": ".py",
   "mimetype": "text/x-python",
   "name": "python",
   "nbconvert_exporter": "python",
   "pygments_lexer": "ipython3",
   "version": "3.9.6"
  }
 },
 "nbformat": 4,
 "nbformat_minor": 5
}
