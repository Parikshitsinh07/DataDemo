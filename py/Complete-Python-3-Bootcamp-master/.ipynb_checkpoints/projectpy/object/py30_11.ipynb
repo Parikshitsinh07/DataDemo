{
 "cells": [
  {
   "cell_type": "code",
   "execution_count": 2,
   "id": "5ad6ffb2-c227-4b37-827d-ca21593333fd",
   "metadata": {},
   "outputs": [],
   "source": [
    "import numpy as np"
   ]
  },
  {
   "cell_type": "code",
   "execution_count": 3,
   "id": "cd2b494d-1658-4184-9b4e-5c4619d17028",
   "metadata": {},
   "outputs": [
    {
     "name": "stdout",
     "output_type": "stream",
     "text": [
      "[[2 3 2]]\n",
      "(1, 3)\n",
      "3\n",
      "2\n"
     ]
    }
   ],
   "source": [
    "k = np.array([[2,3,2]])\n",
    "print(k)\n",
    "print(k.shape)\n",
    "print(k.size)\n",
    "print(k.ndim)"
   ]
  },
  {
   "cell_type": "code",
   "execution_count": 36,
   "id": "ebd6d4b3-48bb-4003-856f-1b6bbf9fce51",
   "metadata": {},
   "outputs": [],
   "source": [
    "A = np.array([[2,3,5],[1,2,1],[3,1,7]])"
   ]
  },
  {
   "cell_type": "code",
   "execution_count": 43,
   "id": "3648fa8c-6e48-480f-9523-4cbd0c74f2c5",
   "metadata": {},
   "outputs": [
    {
     "name": "stdout",
     "output_type": "stream",
     "text": [
      "[[2 3 5]\n",
      " [1 1 2]\n",
      " [1 3 7]]\n"
     ]
    }
   ],
   "source": [
    "print(np.sort(A))"
   ]
  },
  {
   "cell_type": "code",
   "execution_count": 37,
   "id": "d1a7690b-db6c-49cb-86c9-7bd58ac2d86c",
   "metadata": {},
   "outputs": [],
   "source": [
    "B = np.array([[\"X\",\"Y\",\"Z\"]])"
   ]
  },
  {
   "cell_type": "code",
   "execution_count": 38,
   "id": "9ef8343c-1a36-4065-be89-a47f506037b7",
   "metadata": {},
   "outputs": [
    {
     "data": {
      "text/plain": [
       "array([[ 4,  9, 10],\n",
       "       [ 2,  6,  2],\n",
       "       [ 6,  3, 14]])"
      ]
     },
     "execution_count": 38,
     "metadata": {},
     "output_type": "execute_result"
    }
   ],
   "source": [
    "A*k"
   ]
  },
  {
   "cell_type": "code",
   "execution_count": 39,
   "id": "c6e52383-63c1-4d11-936b-9a8c0d446f43",
   "metadata": {},
   "outputs": [
    {
     "name": "stdout",
     "output_type": "stream",
     "text": [
      "[[23]\n",
      " [10]\n",
      " [23]]\n"
     ]
    }
   ],
   "source": [
    "print(np.dot(A,k.T))"
   ]
  },
  {
   "cell_type": "code",
   "execution_count": 41,
   "id": "d9eb36bc-6232-4e76-9661-e9195d2de22d",
   "metadata": {},
   "outputs": [
    {
     "name": "stdout",
     "output_type": "stream",
     "text": [
      "[[-1.18181818  1.45454545  0.63636364]\n",
      " [ 0.36363636  0.09090909 -0.27272727]\n",
      " [ 0.45454545 -0.63636364 -0.09090909]]\n"
     ]
    }
   ],
   "source": [
    "#A=np.array([[2,3,4],[2,3,4]])\n",
    "inA=np.linalg.inv(A)\n",
    "print(inA)"
   ]
  },
  {
   "cell_type": "code",
   "execution_count": 42,
   "id": "ec73f663-c3a7-4a93-a47f-a2a907ecf2ee",
   "metadata": {},
   "outputs": [
    {
     "name": "stdout",
     "output_type": "stream",
     "text": [
      "[[ 3.27272727]\n",
      " [ 0.45454545]\n",
      " [-1.18181818]]\n"
     ]
    }
   ],
   "source": [
    "X = np.dot(inA,k.T)\n",
    "print(X)"
   ]
  },
  {
   "cell_type": "code",
   "execution_count": 16,
   "id": "a599ab73-c355-4e28-8143-7a9e616be6b3",
   "metadata": {},
   "outputs": [],
   "source": [
    "n2 = np.array([[3,4,5,6,7],\n",
    "               [13,14,15,16,17],\n",
    "               [23,24,25,26,27]])"
   ]
  },
  {
   "cell_type": "code",
   "execution_count": 17,
   "id": "4957aa41-107a-4eda-8119-2ee009115088",
   "metadata": {},
   "outputs": [
    {
     "name": "stdout",
     "output_type": "stream",
     "text": [
      "225\n",
      "1450135552\n",
      "27\n",
      "3\n",
      "15.0\n",
      "8.286535263104035\n",
      "14\n",
      "0\n"
     ]
    }
   ],
   "source": [
    "print(n2.sum())\n",
    "print(n2.prod())\n",
    "print(n2.max())\n",
    "print(n2.min())\n",
    "print(n2.mean())\n",
    "print(n2.std())\n",
    "print(n2.argmax())\n",
    "print(n2.argmin())"
   ]
  },
  {
   "cell_type": "code",
   "execution_count": 18,
   "id": "f9753038-6ac0-404a-ae6e-628517ef4f6b",
   "metadata": {},
   "outputs": [
    {
     "name": "stdout",
     "output_type": "stream",
     "text": [
      "[1] [3]\n"
     ]
    }
   ],
   "source": [
    "print(np.where(n2 == 16)[0],np.where(n2 == 16)[1])"
   ]
  },
  {
   "cell_type": "code",
   "execution_count": 19,
   "id": "73138ee8-9dae-4408-8549-26dd6fd4ad0a",
   "metadata": {},
   "outputs": [
    {
     "name": "stdout",
     "output_type": "stream",
     "text": [
      "[0] [1]\n"
     ]
    }
   ],
   "source": [
    "print(np.where(n2 == 4)[0],np.where(n2 == 4)[1])"
   ]
  },
  {
   "cell_type": "code",
   "execution_count": 45,
   "id": "8732173f-8eeb-4f1f-a15e-265c82333424",
   "metadata": {},
   "outputs": [
    {
     "name": "stdout",
     "output_type": "stream",
     "text": [
      "[[46 66 44]\n",
      " [17 27 23]]\n"
     ]
    }
   ],
   "source": [
    "A=np.array([[4,6],[3,2]])\n",
    "B=np.array([[1,3,5],[7,9,4]])\n",
    "print(np.dot(A,B))"
   ]
  },
  {
   "cell_type": "code",
   "execution_count": 46,
   "id": "4055471b-975f-4e0c-b9ff-c1c6d352bbef",
   "metadata": {},
   "outputs": [
    {
     "name": "stdout",
     "output_type": "stream",
     "text": [
      "[[18 26 34]\n",
      " [25 37 49]\n",
      " [ 4  6  8]]\n"
     ]
    }
   ],
   "source": [
    "A=np.array([[2,2],[1,5],[0,1]])\n",
    "B=np.array([[5,7,9],[4,6,8]])\n",
    "print(np.dot(A,B))"
   ]
  },
  {
   "cell_type": "code",
   "execution_count": 1,
   "id": "dec6a8d9-f936-455d-b03c-344bc449d370",
   "metadata": {},
   "outputs": [
    {
     "ename": "NameError",
     "evalue": "name 'np' is not defined",
     "output_type": "error",
     "traceback": [
      "\u001b[1;31m---------------------------------------------------------------------------\u001b[0m",
      "\u001b[1;31mNameError\u001b[0m                                 Traceback (most recent call last)",
      "Cell \u001b[1;32mIn[1], line 4\u001b[0m\n\u001b[0;32m      1\u001b[0m \u001b[38;5;66;03m#2x+3y+5z=15\u001b[39;00m\n\u001b[0;32m      2\u001b[0m \u001b[38;5;66;03m#5x+6y+7z=20\u001b[39;00m\n\u001b[0;32m      3\u001b[0m \u001b[38;5;66;03m#9x+9y-15=25\u001b[39;00m\n\u001b[1;32m----> 4\u001b[0m A \u001b[38;5;241m=\u001b[39m \u001b[43mnp\u001b[49m\u001b[38;5;241m.\u001b[39marray([[\u001b[38;5;241m2\u001b[39m,\u001b[38;5;241m3\u001b[39m,\u001b[38;5;241m5\u001b[39m],[\u001b[38;5;241m5\u001b[39m,\u001b[38;5;241m6\u001b[39m,\u001b[38;5;241m7\u001b[39m],[\u001b[38;5;241m9\u001b[39m,\u001b[38;5;241m9\u001b[39m,\u001b[38;5;241m15\u001b[39m]])\n",
      "\u001b[1;31mNameError\u001b[0m: name 'np' is not defined"
     ]
    }
   ],
   "source": [
    "#2x+3y+5z=15\n",
    "#5x+6y+7z=20\n",
    "#9x+9y-15=25\n",
    "A = np.array([[2,3,5],[5,6,7],[9,9,15]])"
   ]
  },
  {
   "cell_type": "code",
   "execution_count": 8,
   "id": "c27c612a-67ff-4fbd-a9d4-e9fc5033ec96",
   "metadata": {},
   "outputs": [
    {
     "name": "stdout",
     "output_type": "stream",
     "text": [
      "<class 'numpy.int32'>\n"
     ]
    }
   ],
   "source": [
    "I= np.array([1,2,3])\n",
    "print(type(I[1]))"
   ]
  },
  {
   "cell_type": "code",
   "execution_count": 4,
   "id": "cde50d11-c6b7-4ee9-b251-fb991e38f4b5",
   "metadata": {},
   "outputs": [
    {
     "name": "stdout",
     "output_type": "stream",
     "text": [
      "['a' 'b' 'c' '4']\n"
     ]
    }
   ],
   "source": [
    "I= np.array(['a','b','c',4])\n",
    "print(I)"
   ]
  },
  {
   "cell_type": "code",
   "execution_count": null,
   "id": "a72ee513-08e5-4cfe-853d-58539642d5f8",
   "metadata": {},
   "outputs": [],
   "source": [
    "k1 = np.fu"
   ]
  }
 ],
 "metadata": {
  "kernelspec": {
   "display_name": "Python 3 (ipykernel)",
   "language": "python",
   "name": "python3"
  },
  "language_info": {
   "codemirror_mode": {
    "name": "ipython",
    "version": 3
   },
   "file_extension": ".py",
   "mimetype": "text/x-python",
   "name": "python",
   "nbconvert_exporter": "python",
   "pygments_lexer": "ipython3",
   "version": "3.9.6"
  }
 },
 "nbformat": 4,
 "nbformat_minor": 5
}
