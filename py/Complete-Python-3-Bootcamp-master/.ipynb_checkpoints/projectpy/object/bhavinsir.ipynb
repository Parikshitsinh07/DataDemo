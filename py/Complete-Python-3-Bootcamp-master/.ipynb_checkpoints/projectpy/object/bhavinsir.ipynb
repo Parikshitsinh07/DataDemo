{
 "cells": [
  {
   "cell_type": "markdown",
   "id": "60c756b4-df98-47ca-8ae4-7ccfde22a97b",
   "metadata": {},
   "source": [
    "#### Task-1. Write a NumPy program to perform efficient array operations as below:"
   ]
  },
  {
   "cell_type": "markdown",
   "id": "81e54646-ecc3-4e1a-9d6e-eacbb89b57c6",
   "metadata": {},
   "source": [
    "Write a NumPy program to perform efficient array operations as below:"
   ]
  },
  {
   "cell_type": "code",
   "execution_count": 1,
   "id": "b7544432-8b62-4923-8c42-74be2e332995",
   "metadata": {},
   "outputs": [],
   "source": [
    "import numpy as np"
   ]
  },
  {
   "cell_type": "markdown",
   "id": "2761358a-5e33-4b0c-b6d9-7532e23e8435",
   "metadata": {},
   "source": [
    "1.create a NumPy array using the 'np.array' function."
   ]
  },
  {
   "cell_type": "code",
   "execution_count": 3,
   "id": "dba8d7ce-feb2-49f1-a5cb-2ef81dcdf23b",
   "metadata": {},
   "outputs": [],
   "source": [
    "Array = np.array([1,2,3,4,6,7,8,9])"
   ]
  },
  {
   "cell_type": "code",
   "execution_count": 4,
   "id": "b65907ee-17e6-499b-96b0-0609a1fee29c",
   "metadata": {},
   "outputs": [
    {
     "name": "stdout",
     "output_type": "stream",
     "text": [
      "[1 2 3 4 6 7 8 9]\n",
      "8\n",
      "(8,)\n",
      "1\n"
     ]
    }
   ],
   "source": [
    "print(Array)\n",
    "print(Array.size)\n",
    "print(Array.shape)\n",
    "print(Array.ndim)"
   ]
  },
  {
   "cell_type": "markdown",
   "id": "15a57580-a0a0-4bab-81d3-5134a7bfe673",
   "metadata": {},
   "source": [
    "2.Perform array operations such as squaring each element and calculating the sum using NumPy functions."
   ]
  },
  {
   "cell_type": "code",
   "execution_count": 5,
   "id": "74cfdab9-bdb5-47fb-ae5a-6f55be84a26e",
   "metadata": {},
   "outputs": [
    {
     "name": "stdout",
     "output_type": "stream",
     "text": [
      "40\n"
     ]
    }
   ],
   "source": [
    "print(Array.sum())"
   ]
  },
  {
   "cell_type": "code",
   "execution_count": 6,
   "id": "2063a0a5-7cbf-4373-8912-9cafd88035d9",
   "metadata": {},
   "outputs": [
    {
     "name": "stdout",
     "output_type": "stream",
     "text": [
      "[ 1  4  9 16 36 49 64 81]\n"
     ]
    }
   ],
   "source": [
    "print(np.square(Array))"
   ]
  },
  {
   "cell_type": "markdown",
   "id": "ab1bf462-2609-4688-990e-7dd767b2121c",
   "metadata": {},
   "source": [
    "3.Reshaped the array into a 2D array using the 'reshape' method."
   ]
  },
  {
   "cell_type": "code",
   "execution_count": 8,
   "id": "c6c95839-56ba-4a9b-929d-384439e4753c",
   "metadata": {},
   "outputs": [
    {
     "data": {
      "text/plain": [
       "array([[1],\n",
       "       [2],\n",
       "       [3],\n",
       "       [4],\n",
       "       [6],\n",
       "       [7],\n",
       "       [8],\n",
       "       [9]])"
      ]
     },
     "execution_count": 8,
     "metadata": {},
     "output_type": "execute_result"
    }
   ],
   "source": [
    "Array.reshape(8,1)"
   ]
  },
  {
   "cell_type": "markdown",
   "id": "504a1c18-8ddb-43d0-be5a-5afc4200ea86",
   "metadata": {},
   "source": [
    "#### Task-2. Write a Python program in NumPy to create an array with low-level ndarray with perform the following tasks."
   ]
  },
  {
   "cell_type": "markdown",
   "id": "33b5b3a9-2264-4965-b663-38594f15ea08",
   "metadata": {},
   "source": [
    "1. Creating an array using the low-level 'ndarray' constructor in NumPy involves specifying the array's shape,\n",
    "and data type, and optionally providing initial data."
   ]
  },
  {
   "cell_type": "code",
   "execution_count": 9,
   "id": "14d9b10c-3364-44ca-9e5e-781594fc9ccc",
   "metadata": {},
   "outputs": [
    {
     "data": {
      "text/plain": [
       "array([[ 1,  2,  3,  4],\n",
       "       [ 5,  6,  7,  8],\n",
       "       [ 9, 10, 11, 12]])"
      ]
     },
     "execution_count": 9,
     "metadata": {},
     "output_type": "execute_result"
    }
   ],
   "source": [
    "data=np.array([[1, 2, 3, 4],[5, 6, 7, 8],[9, 10, 11,12]])\n",
    "my_array = np.ndarray(shape=(3,4), dtype = int , buffer=data)\n",
    "my_array"
   ]
  },
  {
   "cell_type": "markdown",
   "id": "b2ae8d10-3651-4dc0-85dc-1c30b49375be",
   "metadata": {},
   "source": [
    "2. Modify an element in the array (custom_array[2] = 10)."
   ]
  },
  {
   "cell_type": "code",
   "execution_count": 10,
   "id": "5cb068c0-7dba-43b0-999f-82aa3cd56067",
   "metadata": {},
   "outputs": [
    {
     "name": "stdout",
     "output_type": "stream",
     "text": [
      "modify entayr Row\n",
      "[[ 1  2  3  4]\n",
      " [10 10 10 10]\n",
      " [ 9 10 11 12]]\n",
      "modify array element\n",
      "[[ 1  2  3  4]\n",
      " [ 5  6  7  8]\n",
      " [ 9 10 11 12]]\n"
     ]
    }
   ],
   "source": [
    "print(\"modify entayr Row\") \n",
    "my_array[1] = 10\n",
    "print(my_array)\n",
    "\n",
    "print(\"modify array element\")\n",
    "my_array[1][0] = 5\n",
    "my_array[1][1] = 6\n",
    "my_array[1][2] = 7\n",
    "my_array[1][3] = 8\n",
    "my_array[0][2] = 3\n",
    "print(my_array)"
   ]
  },
  {
   "cell_type": "markdown",
   "id": "e2c3db4b-5880-47cf-9b6d-848e77ac3cf7",
   "metadata": {},
   "source": [
    "3. Reshape the array into a 2D array (reshaped_array = custom_array.reshape((1, 5)))."
   ]
  },
  {
   "cell_type": "code",
   "execution_count": 11,
   "id": "f47f1438-d9c1-4280-bb9a-dcc9e4501c54",
   "metadata": {},
   "outputs": [
    {
     "data": {
      "text/plain": [
       "array([[ 1,  2,  3,  4,  5,  6,  7,  8,  9, 10, 11, 12]])"
      ]
     },
     "execution_count": 11,
     "metadata": {},
     "output_type": "execute_result"
    }
   ],
   "source": [
    "my_array.reshape(1,12)"
   ]
  },
  {
   "cell_type": "markdown",
   "id": "079a15ef-2557-4bbf-ae42-f33fd4e6d79d",
   "metadata": {},
   "source": [
    "#### Task-3. Write a Python program in NumPy to create an array with existing data and perform the following tasks."
   ]
  },
  {
   "cell_type": "markdown",
   "id": "3001877f-2212-4576-8a4c-71211d6939b3",
   "metadata": {},
   "source": [
    "1. Create an array ('array1') using the 'np. array()' function with existing data ('data1')."
   ]
  },
  {
   "cell_type": "code",
   "execution_count": 35,
   "id": "0313555f-ef67-477f-87ff-bbadeb9da61d",
   "metadata": {},
   "outputs": [
    {
     "name": "stdout",
     "output_type": "stream",
     "text": [
      "[3 4 5 6 7 8]\n"
     ]
    }
   ],
   "source": [
    "data1 = [3,4,5,6,7,8]\n",
    "array1 = np.array(data1)\n",
    "print(array1)\n"
   ]
  },
  {
   "cell_type": "markdown",
   "id": "88cfa0c4-1511-4755-bcb3-6d06af80283a",
   "metadata": {},
   "source": [
    "2. Create another array ('array2') using the 'np.asarray()' function with different data ('data2')."
   ]
  },
  {
   "cell_type": "code",
   "execution_count": 36,
   "id": "4e0b38c4-2018-4a9b-abc7-bfb7b75a8289",
   "metadata": {},
   "outputs": [
    {
     "name": "stdout",
     "output_type": "stream",
     "text": [
      "[ 9 10 11 12 13 14]\n"
     ]
    }
   ],
   "source": [
    "data2 = [9,10,11,12,13,14]\n",
    "array2 = np.asarray(data2)\n",
    "print(array2)"
   ]
  },
  {
   "cell_type": "markdown",
   "id": "d90e28d6-cef5-4b58-bc6c-1768125514fc",
   "metadata": {},
   "source": [
    "3. Modify the original data ('data1[2] = 100') and observe that the 'np. array()' array ('array1') remains unchanged, as it creates a new copy of the data."
   ]
  },
  {
   "cell_type": "code",
   "execution_count": 37,
   "id": "fe11f32a-0421-44f7-a122-41fe440dc5fb",
   "metadata": {},
   "outputs": [
    {
     "name": "stdout",
     "output_type": "stream",
     "text": [
      "[3, 4, 100, 6, 7, 8]\n",
      "[3 4 5 6 7 8]\n"
     ]
    }
   ],
   "source": [
    "data1[2] = 100\n",
    "print(data1)\n",
    "print(array1)"
   ]
  },
  {
   "cell_type": "code",
   "execution_count": 45,
   "id": "0f9e789a-05ab-4c97-ab00-b8f8109516a0",
   "metadata": {},
   "outputs": [
    {
     "name": "stdout",
     "output_type": "stream",
     "text": [
      "1953338792064\n",
      "1953581977728\n",
      "1953581905168\n",
      "1953581674288\n"
     ]
    }
   ],
   "source": [
    "print(id(data1))\n",
    "print(id(data2))\n",
    "print(id(array1))\n",
    "print(id(array2))"
   ]
  },
  {
   "cell_type": "code",
   "execution_count": 40,
   "id": "e80e68a4-3100-4de4-ba26-d3dada1e7e4d",
   "metadata": {},
   "outputs": [
    {
     "name": "stdout",
     "output_type": "stream",
     "text": [
      "[3, 4, 5, 6, 7, 8]\n"
     ]
    }
   ],
   "source": [
    "data1[2]=5\n",
    "print(data1)"
   ]
  },
  {
   "cell_type": "code",
   "execution_count": 41,
   "id": "254f7e99-ce6e-423a-9dd2-29f9500318bd",
   "metadata": {},
   "outputs": [
    {
     "name": "stdout",
     "output_type": "stream",
     "text": [
      "[3, 4, 5, 6, 7, 8]\n",
      "[  3   4   5 100   7   8]\n"
     ]
    }
   ],
   "source": [
    "array1[3] = 100\n",
    "print(data1)\n",
    "print(array1)"
   ]
  },
  {
   "cell_type": "code",
   "execution_count": 42,
   "id": "16853dc0-3c94-4d26-a7fd-df68144ad58e",
   "metadata": {},
   "outputs": [
    {
     "name": "stdout",
     "output_type": "stream",
     "text": [
      "[9, 10, 100, 12, 13, 14]\n",
      "[ 9 10 11 12 13 14]\n"
     ]
    }
   ],
   "source": [
    "data2[2] = 100\n",
    "print(data2)\n",
    "print(array2)"
   ]
  },
  {
   "cell_type": "code",
   "execution_count": 43,
   "id": "2e1aba70-0c81-43d4-9082-6b2dd77e2ede",
   "metadata": {},
   "outputs": [
    {
     "name": "stdout",
     "output_type": "stream",
     "text": [
      "[9, 10, 11, 12, 13, 14]\n"
     ]
    }
   ],
   "source": [
    "data2[2] = 11\n",
    "print(data2)"
   ]
  },
  {
   "cell_type": "code",
   "execution_count": 44,
   "id": "09d880a2-3eee-477a-8304-efb610931cb8",
   "metadata": {},
   "outputs": [
    {
     "name": "stdout",
     "output_type": "stream",
     "text": [
      "[9, 10, 11, 12, 13, 14]\n",
      "[  9 100  11  12  13  14]\n"
     ]
    }
   ],
   "source": [
    "array2[1]=100\n",
    "print(data2)\n",
    "print(array2)"
   ]
  },
  {
   "cell_type": "markdown",
   "id": "135dd228-00c4-4e8f-8b94-0dcbf0cad152",
   "metadata": {},
   "source": [
    "#### Task-4.  Write a Python program to create an array with numerical ranges in NumPy using the 'np. arrange ()', 'np. linspace()', and 'np. logspace()' functions."
   ]
  },
  {
   "cell_type": "markdown",
   "id": "0f183d27-0849-49e2-b963-486226afcaac",
   "metadata": {},
   "source": [
    "1. Start from 1, stop before 11, step by 2"
   ]
  },
  {
   "cell_type": "code",
   "execution_count": 37,
   "id": "a392ee03-eb81-44a1-8ee4-7302aa33421a",
   "metadata": {},
   "outputs": [
    {
     "name": "stdout",
     "output_type": "stream",
     "text": [
      "Array created with np.arange(): [1 3 5 7 9]\n"
     ]
    }
   ],
   "source": [
    "arr_range = np.arange(start=1, stop=11, step=2)\n",
    "print(\"Array created with np.arange():\", arr_range)"
   ]
  },
  {
   "cell_type": "code",
   "execution_count": 46,
   "id": "402e3531-949c-4a9f-a588-4fc98463629b",
   "metadata": {},
   "outputs": [
    {
     "name": "stdout",
     "output_type": "stream",
     "text": [
      "Array created with np.linspace(): [ 1.  2.  3.  4.  5.  6.  7.  8.  9. 10. 11.]\n"
     ]
    }
   ],
   "source": [
    "arr_linspace = np.linspace(start=1, stop=11, num=11)\n",
    "print(\"Array created with np.linspace():\", arr_linspace)"
   ]
  },
  {
   "cell_type": "code",
   "execution_count": 63,
   "id": "19c65c17-1005-4029-ae8d-cc5ca8109f93",
   "metadata": {},
   "outputs": [
    {
     "name": "stdout",
     "output_type": "stream",
     "text": [
      "Array created with np.logspace(): [1.e+01 1.e+11]\n"
     ]
    }
   ],
   "source": [
    "arr_logspace = np.logspace(start=1, stop=11, num=2, base=10)\n",
    "print(\"Array created with np.logspace():\", arr_logspace)"
   ]
  },
  {
   "cell_type": "markdown",
   "id": "41c6069c-c9a8-4093-a4f6-763a04c1b09a",
   "metadata": {},
   "source": [
    "#### Task-5. Write a Python program in NumPy to perform a vectorization operation on the entire array with the following steps"
   ]
  },
  {
   "cell_type": "markdown",
   "id": "72a960e1-586f-4dc9-af61-6bc2878531e7",
   "metadata": {},
   "source": [
    "1. Create two arrays ('array1' and 'array2')."
   ]
  },
  {
   "cell_type": "code",
   "execution_count": 74,
   "id": "2196bc9c-d27a-4730-801f-b94525b719c7",
   "metadata": {},
   "outputs": [
    {
     "name": "stdout",
     "output_type": "stream",
     "text": [
      "Matrix 1\n",
      "[[  4   9  16]\n",
      " [ 25  36  49]\n",
      " [ 64  81 100]]\n",
      "Matrix 2\n",
      "[[ 1  3  5]\n",
      " [ 7  9 11]\n",
      " [13 15 17]]\n"
     ]
    }
   ],
   "source": [
    "Array1 = np.array([[4,9,16],[25,36,49],[64,81,100]]);\n",
    "Array2 = np.array([[1,3,5],[7,9,11],[13,15,17]]);\n",
    "print(\"Matrix 1\")\n",
    "print(Array1)\n",
    "print(\"Matrix 2\")\n",
    "print(Array2)\n"
   ]
  },
  {
   "cell_type": "markdown",
   "id": "24230400-c35f-4cad-b07e-6962d30c5d28",
   "metadata": {},
   "source": [
    "2. Perform vectorized addition ('array1 + array2'), multiplication ('array1 * array2'), and square root ('np.sqrt(array1)')."
   ]
  },
  {
   "cell_type": "code",
   "execution_count": 78,
   "id": "a1632ee0-ee7d-40fb-91a9-319da3834771",
   "metadata": {},
   "outputs": [
    {
     "name": "stdout",
     "output_type": "stream",
     "text": [
      "Addtion Of two number using numpy Add function\n",
      "[[  5  12  21]\n",
      " [ 32  45  60]\n",
      " [ 77  96 117]]\n",
      "Multiplicaton Of Two Array using numpy Function\n",
      "[[ 275  333  391]\n",
      " [ 914 1134 1354]\n",
      " [1931 2421 2911]]\n",
      "square root Of Array Matrix 1\n",
      "[[ 2.  3.  4.]\n",
      " [ 5.  6.  7.]\n",
      " [ 8.  9. 10.]]\n"
     ]
    }
   ],
   "source": [
    "print(\"Addtion Of two number using numpy Add function\")\n",
    "print(np.add(Array1,Array2))\n",
    "print(\"Multiplicaton Of Two Array using numpy Function\")\n",
    "print(np.dot(Array1,Array2))\n",
    "print(\"square root Of Array Matrix 1\")\n",
    "print(np.sqrt(Array1))"
   ]
  },
  {
   "cell_type": "code",
   "execution_count": null,
   "id": "db8fb0c4-386c-4c64-b9bf-cf779593cf89",
   "metadata": {},
   "outputs": [],
   "source": []
  },
  {
   "cell_type": "code",
   "execution_count": null,
   "id": "a306927b-a173-4ff6-a4df-597a605f199d",
   "metadata": {},
   "outputs": [],
   "source": []
  }
 ],
 "metadata": {
  "kernelspec": {
   "display_name": "Python 3 (ipykernel)",
   "language": "python",
   "name": "python3"
  },
  "language_info": {
   "codemirror_mode": {
    "name": "ipython",
    "version": 3
   },
   "file_extension": ".py",
   "mimetype": "text/x-python",
   "name": "python",
   "nbconvert_exporter": "python",
   "pygments_lexer": "ipython3",
   "version": "3.9.6"
  }
 },
 "nbformat": 4,
 "nbformat_minor": 5
}
