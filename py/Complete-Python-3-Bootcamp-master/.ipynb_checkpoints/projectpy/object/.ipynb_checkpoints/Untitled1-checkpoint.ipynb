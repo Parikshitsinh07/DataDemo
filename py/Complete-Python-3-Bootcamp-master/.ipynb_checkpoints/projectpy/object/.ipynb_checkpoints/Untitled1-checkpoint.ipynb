{
 "cells": [
  {
   "cell_type": "code",
   "execution_count": 3,
   "id": "ea18f4c5-e1c0-4de0-8bd8-da53d3b528cc",
   "metadata": {},
   "outputs": [],
   "source": [
    "class Car:\n",
    "   # def __init__(self,Model,color):\n",
    "    def __init__(self):\n",
    "        self.model = Model\n",
    "        self.color = color\n",
    "        self.mf_cnt =\"India\"\n",
    "    def getmodel (self):\n",
    "        return self.model\n",
    "    def getcolor (self):\n",
    "        return self.color\n",
    "    def getmf_cnt (self):\n",
    "        return self.mf_cnt\n",
    "    def setmodel (self,Model):\n",
    "        self.model = Model\n",
    "    def setcolor (self,Color):\n",
    "        self.model = Color\n",
    "    def setmf_cnt (self,Mf_cnt):\n",
    "        self.model = Mf_cnt"
   ]
  },
  {
   "cell_type": "code",
   "execution_count": 9,
   "id": "718a0e34-dca0-424a-9a01-c3a3b1fd49c0",
   "metadata": {},
   "outputs": [],
   "source": [
    "class Bmw(Car):\n",
    "    def __init__(self):\n",
    "        Car.__init__(self)\n",
    "    def start(self):\n",
    "        return \"Car is Started\""
   ]
  },
  {
   "cell_type": "code",
   "execution_count": 10,
   "id": "a0149228-f3e5-4eba-a0a0-f7aa1754f299",
   "metadata": {},
   "outputs": [
    {
     "ename": "NameError",
     "evalue": "name 'Model' is not defined",
     "output_type": "error",
     "traceback": [
      "\u001b[1;31m---------------------------------------------------------------------------\u001b[0m",
      "\u001b[1;31mNameError\u001b[0m                                 Traceback (most recent call last)",
      "Cell \u001b[1;32mIn[10], line 1\u001b[0m\n\u001b[1;32m----> 1\u001b[0m car \u001b[38;5;241m=\u001b[39m \u001b[43mBmw\u001b[49m\u001b[43m(\u001b[49m\u001b[43m)\u001b[49m\n\u001b[0;32m      2\u001b[0m car\u001b[38;5;241m.\u001b[39msetmodel(\u001b[38;5;124m\"\u001b[39m\u001b[38;5;124mvarna\u001b[39m\u001b[38;5;124m\"\u001b[39m)\n\u001b[0;32m      3\u001b[0m car\u001b[38;5;241m.\u001b[39msetcolor(\u001b[38;5;124m\"\u001b[39m\u001b[38;5;124mBlack\u001b[39m\u001b[38;5;124m\"\u001b[39m)\n",
      "Cell \u001b[1;32mIn[9], line 3\u001b[0m, in \u001b[0;36mBmw.__init__\u001b[1;34m(self)\u001b[0m\n\u001b[0;32m      2\u001b[0m \u001b[38;5;28;01mdef\u001b[39;00m \u001b[38;5;21m__init__\u001b[39m(\u001b[38;5;28mself\u001b[39m):\n\u001b[1;32m----> 3\u001b[0m     \u001b[43mCar\u001b[49m\u001b[38;5;241;43m.\u001b[39;49m\u001b[38;5;21;43m__init__\u001b[39;49m\u001b[43m(\u001b[49m\u001b[38;5;28;43mself\u001b[39;49m\u001b[43m)\u001b[49m\n",
      "Cell \u001b[1;32mIn[3], line 4\u001b[0m, in \u001b[0;36mCar.__init__\u001b[1;34m(self)\u001b[0m\n\u001b[0;32m      3\u001b[0m \u001b[38;5;28;01mdef\u001b[39;00m \u001b[38;5;21m__init__\u001b[39m(\u001b[38;5;28mself\u001b[39m):\n\u001b[1;32m----> 4\u001b[0m     \u001b[38;5;28mself\u001b[39m\u001b[38;5;241m.\u001b[39mmodel \u001b[38;5;241m=\u001b[39m \u001b[43mModel\u001b[49m\n\u001b[0;32m      5\u001b[0m     \u001b[38;5;28mself\u001b[39m\u001b[38;5;241m.\u001b[39mcolor \u001b[38;5;241m=\u001b[39m color\n\u001b[0;32m      6\u001b[0m     \u001b[38;5;28mself\u001b[39m\u001b[38;5;241m.\u001b[39mmf_cnt \u001b[38;5;241m=\u001b[39m\u001b[38;5;124m\"\u001b[39m\u001b[38;5;124mIndia\u001b[39m\u001b[38;5;124m\"\u001b[39m\n",
      "\u001b[1;31mNameError\u001b[0m: name 'Model' is not defined"
     ]
    }
   ],
   "source": [
    "car = Bmw()\n",
    "car.setmodel(\"varna\")\n",
    "car.setcolor(\"Black\")\n",
    "car.setmf_cnt(\"India\")\n",
    "printf(car.start())"
   ]
  },
  {
   "cell_type": "code",
   "execution_count": null,
   "id": "36d606c1-ac6f-46f7-9b39-6c80bcb98992",
   "metadata": {},
   "outputs": [],
   "source": []
  }
 ],
 "metadata": {
  "kernelspec": {
   "display_name": "Python 3 (ipykernel)",
   "language": "python",
   "name": "python3"
  },
  "language_info": {
   "codemirror_mode": {
    "name": "ipython",
    "version": 3
   },
   "file_extension": ".py",
   "mimetype": "text/x-python",
   "name": "python",
   "nbconvert_exporter": "python",
   "pygments_lexer": "ipython3",
   "version": "3.9.6"
  }
 },
 "nbformat": 4,
 "nbformat_minor": 5
}
