{
 "cells": [
  {
   "cell_type": "markdown",
   "id": "e425ba3e-3515-408f-b5ea-a1d0d8a82436",
   "metadata": {},
   "source": []
  },
  {
   "cell_type": "code",
   "execution_count": 9,
   "id": "de9a9c05-7da8-4fbf-9900-0f8b9ecae74d",
   "metadata": {},
   "outputs": [],
   "source": [
    "class Parson:\n",
    "    sp=\"Hello\"\n",
    "    def __init__(self,Name,Age):\n",
    "        self.name =\"\"\n",
    "        self.age = 1\n",
    "    def setname(self,Name):\n",
    "        self.name = Name \n",
    "    def getname (self):\n",
    "        return self.name\n",
    "    def running (self):\n",
    "        return \"{} is running \".format(self.name)\n",
    "    def setage(self):\n",
    "        if age>0:\n",
    "            slef.age = age\n",
    "        else:\n",
    "            self.age = 18"
   ]
  },
  {
   "cell_type": "code",
   "execution_count": 10,
   "id": "c290c5dc-91cc-46b1-a28f-8260a5780d49",
   "metadata": {},
   "outputs": [
    {
     "name": "stdout",
     "output_type": "stream",
     "text": [
      "\n",
      "1\n"
     ]
    }
   ],
   "source": [
    "#p1 = Parson()\n",
    "p2 = Parson(\"Parikshit\",22)\n",
    "print(p2.name)\n",
    "print(p2.age)"
   ]
  },
  {
   "cell_type": "code",
   "execution_count": 11,
   "id": "8ab8936b-9deb-46d5-b255-5337b7f27ff6",
   "metadata": {},
   "outputs": [],
   "source": [
    "class Student(Parson):\n",
    "    def __init__(self):\n",
    "        #super().__init__(Name,Age)\n",
    "        Parson.__init__(self)\n",
    "    def role(self):\n",
    "        return \"Sutdent\""
   ]
  },
  {
   "cell_type": "code",
   "execution_count": 12,
   "id": "84fdd6cd-fd6b-4bcc-84cd-028c838d0364",
   "metadata": {},
   "outputs": [
    {
     "ename": "TypeError",
     "evalue": "__init__() missing 2 required positional arguments: 'Name' and 'Age'",
     "output_type": "error",
     "traceback": [
      "\u001b[1;31m---------------------------------------------------------------------------\u001b[0m",
      "\u001b[1;31mTypeError\u001b[0m                                 Traceback (most recent call last)",
      "Cell \u001b[1;32mIn[12], line 1\u001b[0m\n\u001b[1;32m----> 1\u001b[0m s1\u001b[38;5;241m=\u001b[39m\u001b[43mStudent\u001b[49m\u001b[43m(\u001b[49m\u001b[43m)\u001b[49m\n\u001b[0;32m      2\u001b[0m \u001b[38;5;28mprint\u001b[39m(s1\u001b[38;5;241m.\u001b[39mrole)\n",
      "Cell \u001b[1;32mIn[11], line 3\u001b[0m, in \u001b[0;36mStudent.__init__\u001b[1;34m(self)\u001b[0m\n\u001b[0;32m      2\u001b[0m \u001b[38;5;28;01mdef\u001b[39;00m \u001b[38;5;21m__init__\u001b[39m(\u001b[38;5;28mself\u001b[39m):\n\u001b[1;32m----> 3\u001b[0m     \u001b[43mParson\u001b[49m\u001b[38;5;241;43m.\u001b[39;49m\u001b[38;5;21;43m__init__\u001b[39;49m\u001b[43m(\u001b[49m\u001b[38;5;28;43mself\u001b[39;49m\u001b[43m)\u001b[49m\n",
      "\u001b[1;31mTypeError\u001b[0m: __init__() missing 2 required positional arguments: 'Name' and 'Age'"
     ]
    }
   ],
   "source": [
    "s1=Student()\n",
    "print(s1.getname(\"Parikshi\"))\n",
    "print(s1.setage(\"Parikshi\"))"
   ]
  },
  {
   "cell_type": "code",
   "execution_count": 1,
   "id": "35c56bde-373e-45c1-98da-f114bd62d67f",
   "metadata": {},
   "outputs": [],
   "source": [
    "class car:\n",
    "   # def __init__(self,Model,color):\n",
    "    def __init__(self):\n",
    "        self.model = Model\n",
    "        self.color = color\n",
    "        self.mf_cnt =\"India\"\n",
    "    def getmodel (self):\n",
    "        return self.model\n",
    "    def getcolor (self):\n",
    "        return self.color\n",
    "    def getmf_cnt (self):\n",
    "        return self.mf_cnt\n",
    "    def setmodel (self,Model):\n",
    "        self.model = Model\n",
    "    def setcolor (self,Color):\n",
    "        self.model = Color\n",
    "    def setmf_cnt (self,Mf_cnt):\n",
    "        self.model = Mf_cnt"
   ]
  },
  {
   "cell_type": "code",
   "execution_count": 2,
   "id": "76b3006c-6675-468a-85ef-3b2305f7d3b5",
   "metadata": {},
   "outputs": [],
   "source": [
    "class Bmw(car):\n",
    "    def __init__(self):\n",
    "        car.__init__(self)\n",
    "    def start(self):\n",
    "        return \"Car is Started\""
   ]
  },
  {
   "cell_type": "markdown",
   "id": "a70f847b-ce6b-4b45-8f9c-46002185596a",
   "metadata": {},
   "source": [
    " drive = Bmw()\n",
    "drive.getcolor\n",
    "drive.getmf_cnt\n",
    "drive.getmodel\n",
    "drive.setcolor(\"red\")\n",
    "drive.setmf_cnt()\n",
    "drive.start"
   ]
  },
  {
   "cell_type": "code",
   "execution_count": 4,
   "id": "97e93b54-c28c-46ab-84f7-50713f48440d",
   "metadata": {},
   "outputs": [
    {
     "data": {
      "text/plain": [
       "0"
      ]
     },
     "execution_count": 4,
     "metadata": {},
     "output_type": "execute_result"
    }
   ],
   "source": [
    "2>>4"
   ]
  },
  {
   "cell_type": "code",
   "execution_count": 5,
   "id": "bf400461-e881-4cc0-bde4-51f3d1154147",
   "metadata": {},
   "outputs": [
    {
     "data": {
      "text/plain": [
       "32"
      ]
     },
     "execution_count": 5,
     "metadata": {},
     "output_type": "execute_result"
    }
   ],
   "source": [
    "2<<4"
   ]
  },
  {
   "cell_type": "code",
   "execution_count": 6,
   "id": "970e570b-5e37-47d4-9beb-1ed59472687f",
   "metadata": {},
   "outputs": [
    {
     "data": {
      "text/plain": [
       "1"
      ]
     },
     "execution_count": 6,
     "metadata": {},
     "output_type": "execute_result"
    }
   ],
   "source": [
    "4>>2"
   ]
  },
  {
   "cell_type": "code",
   "execution_count": 7,
   "id": "a29e7997-3af1-457c-ac4c-6a7e21af6777",
   "metadata": {},
   "outputs": [
    {
     "data": {
      "text/plain": [
       "1"
      ]
     },
     "execution_count": 7,
     "metadata": {},
     "output_type": "execute_result"
    }
   ],
   "source": [
    "9>>3"
   ]
  },
  {
   "cell_type": "code",
   "execution_count": 8,
   "id": "a8098fdd-acca-4e6b-8df1-4085830dccb4",
   "metadata": {},
   "outputs": [],
   "source": [
    "class sample:\n",
    "    x=10 #sattic veriable \n",
    "    @classmethod\n",
    "    def myMethod():\n",
    "        printf(\"Hello\")\n",
    "    def __init__(self,y):\n",
    "        self.y=y\n",
    "        "
   ]
  },
  {
   "cell_type": "code",
   "execution_count": 9,
   "id": "8fab0f81-6461-4af0-ac42-ffd77ef45265",
   "metadata": {},
   "outputs": [
    {
     "ename": "SyntaxError",
     "evalue": "invalid syntax (2976195489.py, line 1)",
     "output_type": "error",
     "traceback": [
      "\u001b[1;36m  Cell \u001b[1;32mIn[9], line 1\u001b[1;36m\u001b[0m\n\u001b[1;33m    s1=\u001b[0m\n\u001b[1;37m       ^\u001b[0m\n\u001b[1;31mSyntaxError\u001b[0m\u001b[1;31m:\u001b[0m invalid syntax\n"
     ]
    }
   ],
   "source": [
    "s1="
   ]
  },
  {
   "cell_type": "code",
   "execution_count": 28,
   "id": "4bffdd4c-48b6-4963-9549-fc711d3a4157",
   "metadata": {},
   "outputs": [],
   "source": [
    "class A(object):\n",
    "    def method(self):\n",
    "        print(\"A class method\")\n",
    "        super().__add__()"
   ]
  },
  {
   "cell_type": "code",
   "execution_count": 11,
   "id": "2e46a69e-166e-4770-b7f9-bae51fd07e43",
   "metadata": {},
   "outputs": [],
   "source": [
    "class B:\n",
    "    def method(self):\n",
    "        print(\"B class method\")\n",
    "        super().method()"
   ]
  },
  {
   "cell_type": "code",
   "execution_count": 17,
   "id": "3488ebb7-c0ff-423a-ad8e-2f28f50fb82b",
   "metadata": {},
   "outputs": [],
   "source": [
    "class C:\n",
    "    def method(self):\n",
    "        print(\"C class method\")\n",
    "        super().method()"
   ]
  },
  {
   "cell_type": "code",
   "execution_count": 15,
   "id": "22ff273b-0739-4cf0-90cc-b5120e328693",
   "metadata": {},
   "outputs": [],
   "source": [
    "class X(A,B):\n",
    "    def method(self):\n",
    "        print(\"X class method\")\n",
    "        super().method()"
   ]
  },
  {
   "cell_type": "code",
   "execution_count": 18,
   "id": "db6f4f64-df1c-4933-99ba-be4fc16482ba",
   "metadata": {},
   "outputs": [],
   "source": [
    "class Y(B,C):\n",
    "    def method(self):\n",
    "        print(\"Y class method\")\n",
    "        super().method()"
   ]
  },
  {
   "cell_type": "code",
   "execution_count": 19,
   "id": "3a5d66b4-f8cf-4857-b3df-ecf773d67a34",
   "metadata": {},
   "outputs": [],
   "source": [
    "class P(X,Y,C):\n",
    "    def method(self):\n",
    "        print(\"Y class method\")\n",
    "        super().method()"
   ]
  },
  {
   "cell_type": "code",
   "execution_count": 20,
   "id": "c25ca950-4237-4f7e-8e89-bfe37521f29e",
   "metadata": {},
   "outputs": [],
   "source": [
    "k=P()"
   ]
  },
  {
   "cell_type": "code",
   "execution_count": 27,
   "id": "34ecde11-2a7c-45d5-8fc2-88a6b0bb6395",
   "metadata": {},
   "outputs": [
    {
     "name": "stdout",
     "output_type": "stream",
     "text": [
      "Y class method\n",
      "X class method\n",
      "A class method\n",
      "Y class method\n",
      "B class method\n",
      "C class method\n"
     ]
    },
    {
     "ename": "AttributeError",
     "evalue": "'super' object has no attribute 'method'",
     "output_type": "error",
     "traceback": [
      "\u001b[1;31m---------------------------------------------------------------------------\u001b[0m",
      "\u001b[1;31mAttributeError\u001b[0m                            Traceback (most recent call last)",
      "Cell \u001b[1;32mIn[27], line 1\u001b[0m\n\u001b[1;32m----> 1\u001b[0m \u001b[43mk\u001b[49m\u001b[38;5;241;43m.\u001b[39;49m\u001b[43mmethod\u001b[49m\u001b[43m(\u001b[49m\u001b[43m)\u001b[49m\n",
      "Cell \u001b[1;32mIn[19], line 4\u001b[0m, in \u001b[0;36mP.method\u001b[1;34m(self)\u001b[0m\n\u001b[0;32m      2\u001b[0m \u001b[38;5;28;01mdef\u001b[39;00m \u001b[38;5;21mmethod\u001b[39m(\u001b[38;5;28mself\u001b[39m):\n\u001b[0;32m      3\u001b[0m     \u001b[38;5;28mprint\u001b[39m(\u001b[38;5;124m\"\u001b[39m\u001b[38;5;124mY class method\u001b[39m\u001b[38;5;124m\"\u001b[39m)\n\u001b[1;32m----> 4\u001b[0m     \u001b[38;5;28;43msuper\u001b[39;49m\u001b[43m(\u001b[49m\u001b[43m)\u001b[49m\u001b[38;5;241;43m.\u001b[39;49m\u001b[43mmethod\u001b[49m\u001b[43m(\u001b[49m\u001b[43m)\u001b[49m\n",
      "Cell \u001b[1;32mIn[15], line 4\u001b[0m, in \u001b[0;36mX.method\u001b[1;34m(self)\u001b[0m\n\u001b[0;32m      2\u001b[0m \u001b[38;5;28;01mdef\u001b[39;00m \u001b[38;5;21mmethod\u001b[39m(\u001b[38;5;28mself\u001b[39m):\n\u001b[0;32m      3\u001b[0m     \u001b[38;5;28mprint\u001b[39m(\u001b[38;5;124m\"\u001b[39m\u001b[38;5;124mX class method\u001b[39m\u001b[38;5;124m\"\u001b[39m)\n\u001b[1;32m----> 4\u001b[0m     \u001b[38;5;28;43msuper\u001b[39;49m\u001b[43m(\u001b[49m\u001b[43m)\u001b[49m\u001b[38;5;241;43m.\u001b[39;49m\u001b[43mmethod\u001b[49m\u001b[43m(\u001b[49m\u001b[43m)\u001b[49m\n",
      "Cell \u001b[1;32mIn[10], line 4\u001b[0m, in \u001b[0;36mA.method\u001b[1;34m(self)\u001b[0m\n\u001b[0;32m      2\u001b[0m \u001b[38;5;28;01mdef\u001b[39;00m \u001b[38;5;21mmethod\u001b[39m(\u001b[38;5;28mself\u001b[39m):\n\u001b[0;32m      3\u001b[0m     \u001b[38;5;28mprint\u001b[39m(\u001b[38;5;124m\"\u001b[39m\u001b[38;5;124mA class method\u001b[39m\u001b[38;5;124m\"\u001b[39m)\n\u001b[1;32m----> 4\u001b[0m     \u001b[38;5;28;43msuper\u001b[39;49m\u001b[43m(\u001b[49m\u001b[43m)\u001b[49m\u001b[38;5;241;43m.\u001b[39;49m\u001b[43mmethod\u001b[49m\u001b[43m(\u001b[49m\u001b[43m)\u001b[49m\n",
      "Cell \u001b[1;32mIn[18], line 4\u001b[0m, in \u001b[0;36mY.method\u001b[1;34m(self)\u001b[0m\n\u001b[0;32m      2\u001b[0m \u001b[38;5;28;01mdef\u001b[39;00m \u001b[38;5;21mmethod\u001b[39m(\u001b[38;5;28mself\u001b[39m):\n\u001b[0;32m      3\u001b[0m     \u001b[38;5;28mprint\u001b[39m(\u001b[38;5;124m\"\u001b[39m\u001b[38;5;124mY class method\u001b[39m\u001b[38;5;124m\"\u001b[39m)\n\u001b[1;32m----> 4\u001b[0m     \u001b[38;5;28;43msuper\u001b[39;49m\u001b[43m(\u001b[49m\u001b[43m)\u001b[49m\u001b[38;5;241;43m.\u001b[39;49m\u001b[43mmethod\u001b[49m\u001b[43m(\u001b[49m\u001b[43m)\u001b[49m\n",
      "Cell \u001b[1;32mIn[11], line 4\u001b[0m, in \u001b[0;36mB.method\u001b[1;34m(self)\u001b[0m\n\u001b[0;32m      2\u001b[0m \u001b[38;5;28;01mdef\u001b[39;00m \u001b[38;5;21mmethod\u001b[39m(\u001b[38;5;28mself\u001b[39m):\n\u001b[0;32m      3\u001b[0m     \u001b[38;5;28mprint\u001b[39m(\u001b[38;5;124m\"\u001b[39m\u001b[38;5;124mB class method\u001b[39m\u001b[38;5;124m\"\u001b[39m)\n\u001b[1;32m----> 4\u001b[0m     \u001b[38;5;28;43msuper\u001b[39;49m\u001b[43m(\u001b[49m\u001b[43m)\u001b[49m\u001b[38;5;241;43m.\u001b[39;49m\u001b[43mmethod\u001b[49m\u001b[43m(\u001b[49m\u001b[43m)\u001b[49m\n",
      "Cell \u001b[1;32mIn[17], line 4\u001b[0m, in \u001b[0;36mC.method\u001b[1;34m(self)\u001b[0m\n\u001b[0;32m      2\u001b[0m \u001b[38;5;28;01mdef\u001b[39;00m \u001b[38;5;21mmethod\u001b[39m(\u001b[38;5;28mself\u001b[39m):\n\u001b[0;32m      3\u001b[0m     \u001b[38;5;28mprint\u001b[39m(\u001b[38;5;124m\"\u001b[39m\u001b[38;5;124mC class method\u001b[39m\u001b[38;5;124m\"\u001b[39m)\n\u001b[1;32m----> 4\u001b[0m     \u001b[38;5;28;43msuper\u001b[39;49m\u001b[43m(\u001b[49m\u001b[43m)\u001b[49m\u001b[38;5;241;43m.\u001b[39;49m\u001b[43mmethod\u001b[49m()\n",
      "\u001b[1;31mAttributeError\u001b[0m: 'super' object has no attribute 'method'"
     ]
    }
   ],
   "source": [
    "k.method()"
   ]
  },
  {
   "cell_type": "code",
   "execution_count": 25,
   "id": "82a66c54-5acb-47f7-9016-769a22ac5fa2",
   "metadata": {},
   "outputs": [
    {
     "name": "stdout",
     "output_type": "stream",
     "text": [
      "(<class '__main__.P'>, <class '__main__.X'>, <class '__main__.A'>, <class '__main__.Y'>, <class '__main__.B'>, <class '__main__.C'>, <class 'object'>)\n"
     ]
    }
   ],
   "source": [
    "print(P.__mro__)"
   ]
  },
  {
   "cell_type": "code",
   "execution_count": null,
   "id": "9ad2b84b-2301-4e16-85f9-163f9b635119",
   "metadata": {},
   "outputs": [],
   "source": []
  }
 ],
 "metadata": {
  "kernelspec": {
   "display_name": "Python 3 (ipykernel)",
   "language": "python",
   "name": "python3"
  },
  "language_info": {
   "codemirror_mode": {
    "name": "ipython",
    "version": 3
   },
   "file_extension": ".py",
   "mimetype": "text/x-python",
   "name": "python",
   "nbconvert_exporter": "python",
   "pygments_lexer": "ipython3",
   "version": "3.9.6"
  }
 },
 "nbformat": 4,
 "nbformat_minor": 5
}
